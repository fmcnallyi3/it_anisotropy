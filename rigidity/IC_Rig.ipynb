{
 "cells": [
  {
   "cell_type": "code",
   "execution_count": 1,
   "id": "3cf3b40b-0bef-4fa7-a7e3-a8ffa22275a1",
   "metadata": {},
   "outputs": [],
   "source": [
    "# import libraries\n",
    "import os, sys, glob\n",
    "import numpy as np\n",
    "import matplotlib.pyplot as plt\n",
    "import healpy\n",
    "from icecube import icetray, dataclasses, dataio, recclasses"
   ]
  },
  {
   "cell_type": "code",
   "execution_count": 2,
   "id": "09259786-0ef9-45b7-9e88-e8123cb8b879",
   "metadata": {},
   "outputs": [
    {
     "name": "stdout",
     "output_type": "stream",
     "text": [
      "['nchannel', 'llhZen', 'llhAz', 'zenith', 'azimuth', 'mc_energy', 'type', 'isgoodllh', 'ndir', 'ldir', 'rlogl', 'atmosphere', 'TriggID_1006', 'cogx', 'cogy', 'cogz', 'logMuE', 'energy', 'GaisserH3a', 'Hoerandel', 'GlobalFitGST', 'GlobalSplineFit5Comp', 'GaisserH4a', 'reco_energy']\n"
     ]
    }
   ],
   "source": [
    "# file provided by Jaun-Carlos (plus printing the keys for easy view)\n",
    "# Load in the data file (contains SYBILL 2.3d data)\n",
    "d = np.load(\"/data/user/juancarlos/notebooks/dst_20904_v3.npz\")\n",
    "print(list(d.keys()))"
   ]
  },
  {
   "cell_type": "code",
   "execution_count": 3,
   "id": "4a433242-38e4-4ad4-bbad-87029a22820d",
   "metadata": {},
   "outputs": [],
   "source": [
    "# set up quality cut for professional data\n",
    "qual_cut = (d['zenith'] > 0.002) * (d['zenith'] < (np.pi - 0.002)) * (d['nchannel'] >= 10) * (d['isgoodllh'])\n",
    "# set up bin cut\n",
    "bin_cut = np.logical_and(d['reco_energy'] > 4, d['reco_energy'] < 8)"
   ]
  },
  {
   "cell_type": "code",
   "execution_count": 4,
   "id": "874a57a8-61ea-4b40-b19e-0a5c9d0c0099",
   "metadata": {},
   "outputs": [],
   "source": [
    "# weighted quantiles function used to calculate the median rigidity bin\n",
    "def weighted_quantiles(values, weights, quantiles=0.5):\n",
    "    if len(values) == 0:\n",
    "        return 0\n",
    "    i = np.argsort(values)\n",
    "    c = np.cumsum(weights[i])\n",
    "    return values[i[np.searchsorted(c, np.array(quantiles) * c[-1])]]"
   ]
  },
  {
   "cell_type": "code",
   "execution_count": 5,
   "id": "be53ea7e-c6a8-4e14-97fb-e6eecea76a43",
   "metadata": {},
   "outputs": [],
   "source": [
    "# functions to calculate Z value per event, save to array, then take the log10 of the array.\n",
    "#define a function to go from PDG code to Z\n",
    "def _get_charge(ptype):\n",
    "    if ptype<1000020040:\n",
    "        return 1\n",
    "    else:\n",
    "        remainder = int(ptype)%1000000000\n",
    "        remainder -= remainder%1000\n",
    "        \n",
    "        return remainder/10000\n",
    "    \n",
    "#turn it into a vectorized function (for speed)\n",
    "get_charge = np.vectorize(_get_charge)\n",
    "\n",
    "#example of usage\n",
    "zarray = get_charge(d['type'])\n",
    "\n",
    "# create log10(z) array for later cells\n",
    "lza = np.log10(zarray)"
   ]
  },
  {
   "cell_type": "code",
   "execution_count": 7,
   "id": "d9dbdc62-223a-470a-b9ce-223aa2374cb3",
   "metadata": {},
   "outputs": [],
   "source": [
    "# set up compositional cuts to separate data by composition\n",
    "pcut = d['type'] == 2212\n",
    "Hecut = d['type'] == 1.00002004e+09\n",
    "Ncut = d['type'] == 1.000070140e+09\n",
    "Alcut = d['type'] == 1.00013027e+09\n",
    "Fecut =  d['type'] == 1.00026056e+09"
   ]
  },
  {
   "cell_type": "code",
   "execution_count": 14,
   "id": "5f930a37-50d8-45e2-b14c-06411b9475dc",
   "metadata": {},
   "outputs": [],
   "source": [
    "# set up dictionaries for later cells\n",
    "# set up compositional cuts to separate data by composition\n",
    "CCUT={\n",
    "    'proton': d['type'] == 2212,\n",
    "    'helium': d['type'] == 1.00002004e+09,\n",
    "    'nitrogen': d['type'] == 1.000070140e+09,\n",
    "    'aluminum': d['type'] == 1.00013027e+09,\n",
    "    'iron': d['type'] == 1.00026056e+09\n",
    "}\n",
    "# Bins sets up energy bin tier cuts\n",
    "BINS={\n",
    "'4.125': np.logical_and(d['reco_energy'] > 4, d['reco_energy'] < 4.25),\n",
    "'4.375': np.logical_and(d['reco_energy'] > 4.25, d['reco_energy'] < 4.5),\n",
    "'4.625': np.logical_and(d['reco_energy'] > 4.5, d['reco_energy'] < 4.75),\n",
    "'4.875': np.logical_and(d['reco_energy'] > 4.75, d['reco_energy'] < 5),\n",
    "'5.125': np.logical_and(d['reco_energy'] > 5, d['reco_energy'] < 5.25),\n",
    "'5.375': np.logical_and(d['reco_energy'] > 5.25, d['reco_energy'] < 5.5),\n",
    "'5.75': np.logical_and(d['reco_energy'] > 5.5, d['reco_energy'] < 6),\n",
    "'6.25': np.logical_and(d['reco_energy'] > 6, d['reco_energy'] < 6.5), \n",
    "'7.25': np.logical_and(d['reco_energy'] > 6.5, d['reco_energy'] < 8)\n",
    "}\n",
    "\n",
    "IC_COMPS = {\n",
    "    'proton': pcut,\n",
    "    'helium': Hecut,\n",
    "    'nitrogen': Ncut,\n",
    "    'aluminum': Alcut,\n",
    "    'iron': Fecut\n",
    "}\n",
    "\n",
    "Z = {\n",
    "    'proton': 1,\n",
    "    'helium': 2,\n",
    "    'nitrogen': 7,\n",
    "    'oxygen': 8,\n",
    "    'aluminum': 13,\n",
    "    'iron': 26\n",
    "}"
   ]
  },
  {
   "cell_type": "code",
   "execution_count": 10,
   "id": "d566dc46-a841-4e28-b5c6-730e2176639c",
   "metadata": {},
   "outputs": [
    {
     "name": "stdout",
     "output_type": "stream",
     "text": [
      "[1.0218638863006397, 1.2499663428707093, 1.4602289658373888, 1.6652357353887455, 1.8664315721735036, 1.9954148041517508, 2.171026513125118, 2.6410762854333925, 3.052710180267395]\n"
     ]
    }
   ],
   "source": [
    "# Calculate IceCube rigidity - mc_energy is not in log10\n",
    "ic_rigidity = np.log10(d['mc_energy']) - 3\n",
    "for comp, comp_cut in IC_COMPS.items():\n",
    "    ic_rigidity[comp_cut] -= np.log10(Z[comp])\n",
    "\n",
    "# Calculate median rigidity - note BINS are the IceCube BINS and comes from reco_energy.ipynb\n",
    "ic_median_rigidity = []\n",
    "for cut in BINS.values():\n",
    "    combined_cut = cut * qual_cut\n",
    "    \n",
    "    ic_median_rigidity.append(weighted_quantiles(ic_rigidity[combined_cut], d['GaisserH4a'][combined_cut]))\n",
    "\n",
    "print(ic_median_rigidity)"
   ]
  },
  {
   "cell_type": "code",
   "execution_count": 13,
   "id": "ad7f26d0-135d-4a13-883e-aee2cb70a49c",
   "metadata": {},
   "outputs": [
    {
     "data": {
      "text/plain": [
       "<matplotlib.legend.Legend at 0x7fea43df2490>"
      ]
     },
     "execution_count": 13,
     "metadata": {},
     "output_type": "execute_result"
    },
    {
     "data": {
      "image/png": "[encoded data removed]",
      "text/plain": [
       "<Figure size 640x480 with 1 Axes>"
      ]
     },
     "metadata": {},
     "output_type": "display_data"
    }
   ],
   "source": [
    "# Little cell that creates a line plot to compare in-ice and icetop median rigidity\n",
    "ic_median_rigidity\n",
    "x=[float(key)-3 for key in BINS.keys()]\n",
    "ITmedArr=[2.2,2.62,2.98,3.23]\n",
    "ITX=[2.48,2.96,3.38,3.84]\n",
    "plt.plot(x, ic_median_rigidity, color='C0', label='IceCube', marker='D')\n",
    "plt.plot(ITX, ITmedArr, color='C1', label='IceTop', marker='D')\n",
    "plt.xlabel('log10(Energy/TeV)')\n",
    "plt.ylabel('log10(Rigidity/TV)')\n",
    "plt.title('possible in-ice/icetop rigidity overlap')\n",
    "plt.legend()"
   ]
  },
  {
   "cell_type": "code",
   "execution_count": null,
   "id": "3d0636ff-c582-40ff-a29d-36f324627b02",
   "metadata": {},
   "outputs": [],
   "source": []
  }
 ],
 "metadata": {
  "kernelspec": {
   "display_name": "py3-v4.3.0: v1.12.1",
   "language": "shell",
   "name": "py3-v4.3.0_v1.12.1"
  },
  "language_info": {
   "codemirror_mode": {
    "name": "ipython",
    "version": 3
   },
   "file_extension": ".py",
   "mimetype": "text/x-python",
   "name": "python",
   "nbconvert_exporter": "python",
   "pygments_lexer": "ipython3",
   "version": "3.11.3"
  }
 },
 "nbformat": 4,
 "nbformat_minor": 5
}
