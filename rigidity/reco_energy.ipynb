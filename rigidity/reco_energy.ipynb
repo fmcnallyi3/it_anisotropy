{
 "cells": [
  {
   "cell_type": "code",
   "execution_count": 1,
   "id": "accc0037-f864-4433-90bd-c13a25acb3ab",
   "metadata": {},
   "outputs": [],
   "source": [
    "# import libraries\n",
    "import os, sys, glob\n",
    "import numpy as np\n",
    "import matplotlib as plt\n",
    "from icecube import icetray, dataclasses, dataio, recclasses\n",
    "sys.path.append('/home/ahinners/.local/lib/python3.11/site-packages')\n",
    "import simweights"
   ]
  },
  {
   "cell_type": "code",
   "execution_count": 2,
   "id": "f14f49fc-51dd-4922-aad7-03dc44600b35",
   "metadata": {},
   "outputs": [],
   "source": [
    "# Load in IceCube CORSIKA Simulations\n",
    "#bigfilelist = '/data/sim/IceCube/2020/filtered/dst/CORSIKA-in-ice/20904'\n",
    "#corsika_fl = sorted(glob.glob(f'{bigfilelist}/*/*i3*'))\n",
    "#0000000-0000999\n",
    "#corsika_fl = corsika_fl[:50]"
   ]
  },
  {
   "cell_type": "code",
   "execution_count": 3,
   "id": "9d3ec05d-ff8e-45cd-92b7-2feff1f3f610",
   "metadata": {},
   "outputs": [
    {
     "name": "stdout",
     "output_type": "stream",
     "text": [
      "['nchannel', 'llhZen', 'llhAz', 'zenith', 'azimuth', 'mc_energy', 'type', 'isgoodllh', 'ndir', 'ldir', 'rlogl', 'atmosphere', 'TriggID_1006', 'cogx', 'cogy', 'cogz', 'logMuE', 'energy', 'GaisserH3a', 'Hoerandel', 'GlobalFitGST', 'GlobalSplineFit5Comp', 'reco_energy']\n"
     ]
    }
   ],
   "source": [
    "# file provided by Jaun-Carlos\n",
    "dd = np.load(\"/data/user/juancarlos/notebooks/dst_20904_v2.npz\")\n",
    "print(list(dd.keys()))"
   ]
  },
  {
   "cell_type": "code",
   "execution_count": 4,
   "id": "e8814a73-b448-4634-8d72-e6e7efbbbc0f",
   "metadata": {},
   "outputs": [],
   "source": [
    "#recoE = dd['reco_energy']\n",
    "#nChan = dd['nchannel']\n",
    "#zen = dd['zenith']"
   ]
  },
  {
   "cell_type": "code",
   "execution_count": 5,
   "id": "97f7872e-5d7d-46ce-a2e6-856b0e06deb2",
   "metadata": {},
   "outputs": [],
   "source": [
    "#fobj = {\"CorsikaWeightMap\": CorsikaWeightMap, \"PolyplopiaPrimary\": PolyplopiaPrimary}\n",
    "#wobj = simweights.CorsikaWeighter(fobj, nfiles=len(corsika_fl))"
   ]
  },
  {
   "cell_type": "code",
   "execution_count": 6,
   "id": "b6171fc2-8789-4570-93e4-78acbad664f8",
   "metadata": {},
   "outputs": [],
   "source": [
    "#bins = 10**np.arange(2.5, 10, 0.25)\n",
    "#plt.hist(MCenergy_corsika, bins = bins, histtype=\"step\", weights=fluxH, label=\"H4a\")\n",
    "#plt.hist(MCenergy_corsika, bins=bins, histtype=\"step\", weights=fluxG, label=\"GSF\")\n",
    "#plt.loglog()\n",
    "#lt.legend()"
   ]
  },
  {
   "cell_type": "code",
   "execution_count": 7,
   "id": "f09edb8d-861d-4ef1-a49c-c4512712bc5d",
   "metadata": {},
   "outputs": [
    {
     "name": "stdout",
     "output_type": "stream",
     "text": [
      "[      2212 1000020040 1000070140 1000130270 1000260560]\n"
     ]
    }
   ],
   "source": [
    "print(np.unique(dd['type']))"
   ]
  },
  {
   "cell_type": "code",
   "execution_count": 8,
   "id": "f60cc78a-6e8e-415c-8941-75e16bce522c",
   "metadata": {},
   "outputs": [
    {
     "ename": "AttributeError",
     "evalue": "module 'matplotlib' has no attribute 'hist'",
     "output_type": "error",
     "traceback": [
      "\u001b[0;31m---------------------------------------------------------------------------\u001b[0m",
      "\u001b[0;31mAttributeError\u001b[0m                            Traceback (most recent call last)",
      "Cell \u001b[0;32mIn[8], line 1\u001b[0m\n\u001b[0;32m----> 1\u001b[0m \u001b[43mplt\u001b[49m\u001b[38;5;241;43m.\u001b[39;49m\u001b[43mhist\u001b[49m(dd[\u001b[38;5;124m'\u001b[39m\u001b[38;5;124mreco_energy\u001b[39m\u001b[38;5;124m'\u001b[39m], histtype \u001b[38;5;241m=\u001b[39m\u001b[38;5;124m'\u001b[39m\u001b[38;5;124mstep\u001b[39m\u001b[38;5;124m'\u001b[39m)\n\u001b[1;32m      2\u001b[0m xlabel \u001b[38;5;241m=\u001b[39m \u001b[38;5;124m'\u001b[39m\u001b[38;5;124mlog10E(GeV)\u001b[39m\u001b[38;5;124m'\u001b[39m\n\u001b[1;32m      4\u001b[0m plt\u001b[38;5;241m.\u001b[39mshow()\n",
      "File \u001b[0;32m/cvmfs/icecube.opensciencegrid.org/py3-v4.3.0/Ubuntu_22.04_x86_64/lib/python3.11/site-packages/matplotlib/_api/__init__.py:226\u001b[0m, in \u001b[0;36mcaching_module_getattr.<locals>.__getattr__\u001b[0;34m(name)\u001b[0m\n\u001b[1;32m    224\u001b[0m \u001b[38;5;28;01mif\u001b[39;00m name \u001b[38;5;129;01min\u001b[39;00m props:\n\u001b[1;32m    225\u001b[0m     \u001b[38;5;28;01mreturn\u001b[39;00m props[name]\u001b[38;5;241m.\u001b[39m\u001b[38;5;21m__get__\u001b[39m(instance)\n\u001b[0;32m--> 226\u001b[0m \u001b[38;5;28;01mraise\u001b[39;00m \u001b[38;5;167;01mAttributeError\u001b[39;00m(\n\u001b[1;32m    227\u001b[0m     \u001b[38;5;124mf\u001b[39m\u001b[38;5;124m\"\u001b[39m\u001b[38;5;124mmodule \u001b[39m\u001b[38;5;132;01m{\u001b[39;00m\u001b[38;5;28mcls\u001b[39m\u001b[38;5;241m.\u001b[39m\u001b[38;5;18m__module__\u001b[39m\u001b[38;5;132;01m!r}\u001b[39;00m\u001b[38;5;124m has no attribute \u001b[39m\u001b[38;5;132;01m{\u001b[39;00mname\u001b[38;5;132;01m!r}\u001b[39;00m\u001b[38;5;124m\"\u001b[39m)\n",
      "\u001b[0;31mAttributeError\u001b[0m: module 'matplotlib' has no attribute 'hist'"
     ]
    }
   ],
   "source": [
    "plt.hist(dd['reco_energy'], histtype ='step')\n",
    "xlabel = 'log10E(GeV)'\n",
    "\n",
    "plt.show()"
   ]
  },
  {
   "cell_type": "code",
   "execution_count": null,
   "id": "6aca49ad-8b8f-450a-8cdf-7baa303a6e6e",
   "metadata": {},
   "outputs": [],
   "source": [
    "def getEbins():\n",
    "    return [4, 4.25, 4.5, 4.75, 5, 5.25, 5.5, 6, 6.5]"
   ]
  },
  {
   "cell_type": "code",
   "execution_count": null,
   "id": "bd2ca48a-256f-4609-80a8-2b4373d79a57",
   "metadata": {},
   "outputs": [],
   "source": [
    "# Load binned simulation\n",
    "d = np.load(\"/data/user/juancarlos/notebooks/dst_20904_v2.npz\", allow_pickle=True)\n",
    "\n",
    "ebins = getEbins() + [8]\n",
    "\n",
    "xbins = np.cos(dd['zenith'])\n",
    "ybins = np.log10(dd['nchannel'])\n",
    "\n",
    "# Additional options\n",
    "# energies[energies==0] = energies.max()      # 0 events only at high E\n",
    "#  - finer binning for x & y if using splines?\n",
    "#  - cmap.set_under('white')\n",
    "\n",
    "# Plot formatting\n",
    "#fig, ax = plt.subplots(figsize=(10,8))\n",
    "fig, ax = plt.subplots(figsize=(5,4))\n",
    "plt.rc(\"font\", family=\"serif\")\n",
    "tPars = {'fontsize':16}\n",
    "# Plot\n",
    "X, Y = np.meshgrid(xbins, ybins)\n",
    "p = ax.pcolor(X, Y, energies.T, cmap=cmap, vmin=ebins[0], vmax=ebins[-1])\n",
    "cb = fig.colorbar(p, ax=ax, ticks=ebins)\n",
    "cb.ax.set_yticklabels(['%.2f' % ebin for ebin in ebins])\n",
    "cb.set_label(r'$\\mathrm{log}_{10}(E/\\mathrm{GeV})$',\n",
    "        rotation=270, labelpad=20, **tPars)\n",
    "ax.set_xlabel(r'$\\mathrm{cos}(\\theta_\\mathrm{reco})$', **tPars)\n",
    "ax.set_ylabel(r'$\\mathrm{log}_{10}(N_\\mathrm{channel})$', **tPars)\n",
    "ax.set_xlim(xbins.min(), xbins.max())\n",
    "ax.set_ylim(ybins.min(), ybins.max())\n",
    "\n",
    "plt.show()"
   ]
  },
  {
   "cell_type": "code",
   "execution_count": null,
   "id": "9af1a570-292d-4197-9c65-f6049ac51b3b",
   "metadata": {},
   "outputs": [],
   "source": []
  }
 ],
 "metadata": {
  "kernelspec": {
   "display_name": "py3-v4.3.0: v1.12.1",
   "language": "shell",
   "name": "py3-v4.3.0_v1.12.1"
  },
  "language_info": {
   "codemirror_mode": {
    "name": "ipython",
    "version": 3
   },
   "file_extension": ".py",
   "mimetype": "text/x-python",
   "name": "python",
   "nbconvert_exporter": "python",
   "pygments_lexer": "ipython3",
   "version": "3.11.3"
  }
 },
 "nbformat": 4,
 "nbformat_minor": 5
}
