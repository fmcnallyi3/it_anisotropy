{
 "cells": [
  {
   "cell_type": "markdown",
   "metadata": {},
   "source": [
    "# If you're going to change something in this notebook after running it, restart the kernel - otherwise, it'll do it for you"
   ]
  },
  {
   "cell_type": "code",
   "execution_count": 1,
   "metadata": {
    "vscode": {
     "languageId": "python"
    }
   },
   "outputs": [],
   "source": [
    "import os, sys, glob, pickle, tables\n",
    "weigh\n",
    "import numpy as np\n",
    "# pip install simweights <--- run this once to install the package\n",
    "# then replace <username> with your username and <version> with your Python version\n",
    "sys.path.append('/home/tfutrell/.local/lib/python3.12/site-packages')\n",
    "import simweights"
   ]
  },
  {
   "cell_type": "code",
   "execution_count": 2,
   "metadata": {
    "vscode": {
     "languageId": "python"
    }
   },
   "outputs": [],
   "source": [
    "p_list = glob.glob('/data/ana/CosmicRay/IceTop_level3/sim/IC86.2015/SIBYLL2.1/p/20174_v1s/h5files/*.h5')\n",
    "he_list = glob.glob('/data/ana/CosmicRay/IceTop_level3/sim/IC86.2015/SIBYLL2.1/He/20178_v1s/h5files/*.h5')\n",
    "o_list = glob.glob('/data/ana/CosmicRay/IceTop_level3/sim/IC86.2015/SIBYLL2.1/O/20179_v1s/h5files/*.h5')\n",
    "fe_list = glob.glob('/data/ana/CosmicRay/IceTop_level3/sim/IC86.2015/SIBYLL2.1/Fe/20180_v1s/h5files/*.h5')\n",
    "\n",
    "bigfilelist = p_list + he_list + o_list + fe_list"
   ]
  },
  {
   "cell_type": "code",
   "execution_count": 3,
   "metadata": {
    "vscode": {
     "languageId": "python"
    }
   },
   "outputs": [
    {
     "name": "stdout",
     "output_type": "stream",
     "text": [
      "Getting weights...\n"
     ]
    }
   ],
   "source": [
    "weighter = None\n",
    "print('Getting weights...')\n",
    "    \n",
    "for filename in bigfilelist:\n",
    "    file_obj = tables.open_file(filename, 'r')\n",
    "    \n",
    "    if weighter is None:\n",
    "        weighter = simweights.IceTopWeighter(file_obj)\n",
    "    else:\n",
    "        weighter += simweights.IceTopWeighter(file_obj)"
   ]
  },
  {
   "cell_type": "code",
   "execution_count": 4,
   "metadata": {
    "vscode": {
     "languageId": "python"
    }
   },
   "outputs": [],
   "source": [
    "PICKLING_FILES = {\n",
    "    'energy': weighter.get_column('MCPrimary', 'energy'),\n",
    "    'particle_type': weighter.get_column('MCPrimary', 'type'),\n",
    "    'hits': weighter.get_column('IceTopHLCSeedRTPulses_SnowUnAttenuated_info', 'nstrings'),\n",
    "    'weights': weighter.get_weights(simweights.GaisserH4a_IT()),\n",
    "    'max_inside': weighter.get_column('IT73AnalysisIceTopQualityCuts', 'IceTopMaxSignalInside')==1,\n",
    "    'runs': weighter.get_column('IT73AnalysisIceTopQualityCuts', 'Run'),\n",
    "    'event': weighter.get_column('IT73AnalysisIceTopQualityCuts', 'Event'),\n",
    "    'sub_event': weighter.get_column('IT73AnalysisIceTopQualityCuts', 'SubEvent'),\n",
    "    'sub_event_stream': weighter.get_column('IT73AnalysisIceTopQualityCuts', 'SubEventStream'),\n",
    "    'beta_cut_pass': weighter.get_column('IT73AnalysisIceTopQualityCuts', 'BetaCutPassed'),\n",
    "    'max_signal_6': weighter.get_column('IT73AnalysisIceTopQualityCuts', 'IceTopMaxSignalAbove6'),\n",
    "    'neighbour_max_signal_4': weighter.get_column('IT73AnalysisIceTopQualityCuts', 'IceTopNeighbourMaxSignalAbove4'),\n",
    "    'standard_filter': weighter.get_column('IT73AnalysisIceTopQualityCuts', 'IceTop_StandardFilter'),\n",
    "    'reco_pass': weighter.get_column('IT73AnalysisIceTopQualityCuts', 'IceTop_reco_succeeded'),\n",
    "    'laputop_frac': weighter.get_column('IT73AnalysisIceTopQualityCuts', 'Laputop_FractionContainment'),\n",
    "    'station_density_pass': weighter.get_column('IT73AnalysisIceTopQualityCuts', 'StationDensity_passed')\n",
    "}"
   ]
  },
  {
   "cell_type": "code",
   "execution_count": 5,
   "metadata": {
    "vscode": {
     "languageId": "python"
    }
   },
   "outputs": [
    {
     "name": "stdout",
     "output_type": "stream",
     "text": [
      "Pickling energy...\n",
      "Pickling particle_type...\n",
      "Pickling hits...\n",
      "Pickling weights...\n",
      "Pickling max_inside...\n",
      "Pickling runs...\n",
      "Pickling event...\n",
      "Pickling sub_event...\n",
      "Pickling sub_event_stream...\n",
      "Pickling beta_cut_pass...\n",
      "Pickling max_signal_6...\n",
      "Pickling neighbour_max_signal_4...\n",
      "Pickling standard_filter...\n",
      "Pickling reco_pass...\n",
      "Pickling laputop_frac...\n",
      "Pickling station_density_pass...\n",
      "Finished!\n"
     ]
    }
   ],
   "source": [
    "for key, array in PICKLING_FILES.items():\n",
    "    print(f'Pickling {key}...')\n",
    "    with open(f'pickles/{key}.pkl', 'wb') as f:\n",
    "        pickle.dump(array, f)\n",
    "\n",
    "print('Finished!')"
   ]
  }
 ],
 "metadata": {
  "kernelspec": {
   "display_name": "py3-v4.3.0: v1.12.1",
   "language": "shell",
   "name": "py3-v4.3.0_v1.12.1"
  },
  "language_info": {
   "codemirror_mode": {
    "name": "ipython",
    "version": 3
   },
   "file_extension": ".py",
   "mimetype": "text/x-python",
   "name": "shell",
   "nbconvert_exporter": "python",
   "pygments_lexer": "ipython3",
   "version": "3.11.3"
  }
 },
 "nbformat": 4,
 "nbformat_minor": 2
}
