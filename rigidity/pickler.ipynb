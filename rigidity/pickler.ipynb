{
 "cells": [
  {
   "cell_type": "markdown",
   "metadata": {},
   "source": [
    "# If you're going to change something in this notebook after running it, restart the kernel - otherwise, it'll do it for you"
   ]
  },
  {
   "cell_type": "markdown",
   "metadata": {},
   "source": [
    "## Imports"
   ]
  },
  {
   "cell_type": "code",
   "execution_count": 1,
   "metadata": {},
   "outputs": [],
   "source": [
    "year = 2012\n",
    "simulation = 'EPOS-LHC'"
   ]
  },
  {
   "cell_type": "code",
   "execution_count": 2,
   "metadata": {},
   "outputs": [],
   "source": [
    "import os, sys, glob, tables\n",
    "import numpy as np\n",
    "# pip install simweights <--- run this once to install the package\n",
    "# then replace <username> with your username and <version> with your Python version\n",
    "sys.path.append('/home/tfutrell/.local/lib/python3.12/site-packages')\n",
    "import simweights"
   ]
  },
  {
   "cell_type": "markdown",
   "metadata": {},
   "source": [
    "## Load h5 files:"
   ]
  },
  {
   "cell_type": "code",
   "execution_count": 3,
   "metadata": {},
   "outputs": [],
   "source": [
    "dir_base = f'/data/ana/CosmicRay/IceTop_level3/sim/IC86.{year}/{simulation}/'\n",
    "dir_end = '/h5files/*.h5'\n",
    "\n",
    "match year:\n",
    "    case 2012:\n",
    "        match simulation:\n",
    "            case 'EPOS-LHC':\n",
    "                fe_list = glob.glob(dir_base + 'Fe/12635_v1s' + dir_end)\n",
    "                he_list = None\n",
    "                o_list = None\n",
    "                p_list = glob.glob(dir_base + 'p/12634_v1s' + dir_end)\n",
    "\n",
    "            case 'SIBYLL2.1':\n",
    "                fe_list = glob.glob(dir_base + 'Fe/12362_v1s' + dir_end) # Can be combined with 20144_v1s\n",
    "                he_list = glob.glob(dir_base + 'He/12630_v1s' + dir_end) # Can be combined with 20145_v1s\n",
    "                o_list = glob.glob(dir_base + 'O/12631_v1s' + dir_end) # Can be combined with 20146_v1s\n",
    "                p_list = glob.glob(dir_base + 'p/12360_v1s' + dir_end) # Can be combined with 20143_v1s\n",
    "            \n",
    "            case 'SIBYLL2.3':\n",
    "                fe_list = glob.glob(dir_base + 'Fe/12633_v1s' + dir_end)\n",
    "                he_list = None\n",
    "                o_list = None\n",
    "                p_list = glob.glob(dir_base + 'p/12632_v1s' + dir_end)\n",
    "    \n",
    "    case 2015:\n",
    "        fe_list = glob.glob(dir_base + 'Fe/20180_v1s' + dir_end)\n",
    "        he_list = glob.glob(dir_base + 'He/20178_v1s' + dir_end)\n",
    "        o_list = glob.glob(dir_base + 'O/20179_v1s' + dir_end)\n",
    "        p_list = glob.glob(dir_base + 'p/20174_v1s' + dir_end)\n",
    "\n",
    "    case 2018:\n",
    "        match simulation:\n",
    "            case 'EPOS-LHC':\n",
    "                # Missing IceTopHLCSeedRTPulses_SnowUnAttenuated_info in Fe/23201_v3/h5files/...5.0\n",
    "                fe_list = []\n",
    "                he_list = []\n",
    "                o_list = []\n",
    "                p_list = []\n",
    "                for i in range(51, 69):\n",
    "                    fe_list += glob.glob(dir_base + 'Fe/23201_v3' + f'/h5files/*E{i/10}*.h5')\n",
    "                    he_list += glob.glob(dir_base + 'He/23199_v3' + f'/h5files/*E{i/10}*.h5')\n",
    "                    o_list += glob.glob(dir_base + 'O/23200_v3' + f'/h5files/*E{i/10}*.h5')\n",
    "                    p_list += glob.glob(dir_base + 'p/23198_v3' + f'/h5files/*E{i/10}*.h5')\n",
    "\n",
    "            case 'SIBYLL2.3d':\n",
    "                fe_list = glob.glob(dir_base + 'Fe_allE_links_v3' + dir_end)\n",
    "                he_list = glob.glob(dir_base + 'He_allE_links_v3' + dir_end)\n",
    "                o_list = glob.glob(dir_base + 'O_allE_links_v3' + dir_end)\n",
    "                p_list = glob.glob(dir_base + 'p_allE_links_v3' + dir_end)"
   ]
  },
  {
   "cell_type": "markdown",
   "metadata": {},
   "source": [
    "## Set up weighter"
   ]
  },
  {
   "cell_type": "code",
   "execution_count": 4,
   "metadata": {},
   "outputs": [],
   "source": [
    "weighter = None\n",
    "print('Getting iron weights...')\n",
    "\n",
    "for filename in fe_list:\n",
    "    file_obj = tables.open_file(filename, 'r')\n",
    "    \n",
    "    if weighter is None:\n",
    "        weighter = simweights.IceTopWeighter(file_obj)\n",
    "    else:\n",
    "        weighter += simweights.IceTopWeighter(file_obj)\n",
    "\n",
    "print('Got iron weights!')        "
   ]
  },
  {
   "cell_type": "code",
   "execution_count": 5,
   "metadata": {},
   "outputs": [],
   "source": [
    "if not he_list == None:\n",
    "    print('Getting helium weights...')\n",
    "\n",
    "    for filename in he_list:\n",
    "        file_obj = tables.open_file(filename, 'r')\n",
    "        weighter += simweights.IceTopWeighter(file_obj)\n",
    "\n",
    "    print('Got helium weights!')"
   ]
  },
  {
   "cell_type": "code",
   "execution_count": 6,
   "metadata": {},
   "outputs": [],
   "source": [
    "if not o_list == None:\n",
    "    print('Getting oxygen weights...')\n",
    "        \n",
    "        \n",
    "    for filename in o_list:\n",
    "        file_obj = tables.open_file(filename, 'r')\n",
    "        weighter += simweights.IceTopWeighter(file_obj)\n",
    "\n",
    "    print('Got oxygen weights!')"
   ]
  },
  {
   "cell_type": "code",
   "execution_count": null,
   "metadata": {},
   "outputs": [],
   "source": [
    "print('Getting proton weights...')\n",
    "\n",
    "for filename in p_list:\n",
    "    file_obj = tables.open_file(filename, 'r')\n",
    "    weighter += simweights.IceTopWeighter(file_obj)\n",
    "\n",
    "print('Got proton weights!')"
   ]
  },
  {
   "cell_type": "markdown",
   "metadata": {},
   "source": [
    "## Save data"
   ]
  },
  {
   "cell_type": "code",
   "execution_count": null,
   "metadata": {},
   "outputs": [],
   "source": [
    "# If the file path does not exist, create it\n",
    "if not os.path.exists(f'saved_data/{year}/{simulation}'):\n",
    "    os.makedirs(f'saved_data/{year}/{simulation}/')"
   ]
  },
  {
   "cell_type": "code",
   "execution_count": null,
   "metadata": {},
   "outputs": [],
   "source": [
    "# Save energy\n",
    "if not os.path.isfile(f'saved_data/{year}/{simulation}/energy.npy'):\n",
    "    print('Saving energy...')\n",
    "    with open(f'saved_data/{year}/{simulation}/energy.npy', 'wb') as f:\n",
    "        np.save(f, weighter.get_column('MCPrimary', 'energy'))\n",
    "    print('Saved!')\n",
    "else:\n",
    "    print('File already exists, skipping')"
   ]
  },
  {
   "cell_type": "code",
   "execution_count": null,
   "metadata": {},
   "outputs": [],
   "source": [
    "# Save particle type\n",
    "if not os.path.isfile(f'saved_data/{year}/{simulation}/particle_type.npy'):\n",
    "    print('Saving particle type...')\n",
    "    with open(f'saved_data/{year}/{simulation}/particle_type.npy', 'wb') as f:\n",
    "        np.save(f, weighter.get_column('MCPrimary', 'type'))\n",
    "    print('Saved!')\n",
    "else:\n",
    "    print('File already exists, skipping')"
   ]
  },
  {
   "cell_type": "code",
   "execution_count": null,
   "metadata": {},
   "outputs": [],
   "source": [
    "# Save H4a weights\n",
    "if not os.path.isfile(f'saved_data/{year}/{simulation}/Hweights.npy'):\n",
    "    print('Saving H4a weights...')\n",
    "    with open(f'saved_data/{year}/{simulation}/Hweights.npy', 'wb') as f:\n",
    "        np.save(f, weighter.get_weights(simweights.GaisserH4a_IT()))\n",
    "    print('Saved!')\n",
    "else:\n",
    "    print('File already exists, skipping')"
   ]
  },
  {
   "cell_type": "code",
   "execution_count": null,
   "metadata": {},
   "outputs": [],
   "source": [
    "# Save GSF weights\n",
    "if not os.path.isfile(f'saved_data/{year}/{simulation}/Gweights.npy'):\n",
    "    print('Saving GSF weights...')\n",
    "    with open(f'saved_data/{year}/{simulation}/Gweights.npy', 'wb') as f:\n",
    "        np.save(f, weighter.get_weights(simweights.GlobalSplineFit_IT()))\n",
    "    print('Saved!')\n",
    "else:\n",
    "    print('File already exists, skipping')"
   ]
  },
  {
   "cell_type": "code",
   "execution_count": null,
   "metadata": {},
   "outputs": [],
   "source": [
    "# Save hits\n",
    "if not os.path.isfile(f'saved_data/{year}/{simulation}/hits.npy'):\n",
    "    print('Saving hits...')\n",
    "    with open(f'saved_data/{year}/{simulation}/hits.npy', 'wb') as f:\n",
    "        np.save(f, weighter.get_column('IceTopHLCSeedRTPulses_SnowUnAttenuated_info', 'nstrings').astype(int))\n",
    "    print('Saved!')\n",
    "else:\n",
    "    print('File already exists, skipping')"
   ]
  },
  {
   "cell_type": "code",
   "execution_count": null,
   "metadata": {},
   "outputs": [],
   "source": [
    "# Save reconstruction passed cut\n",
    "if not os.path.isfile(f'saved_data/{year}/{simulation}/reco_pass.npy'):\n",
    "    print('Saving reco_pass...')\n",
    "    with open(f'saved_data/{year}/{simulation}/reco_pass.npy', 'wb') as f:\n",
    "        np.save(f, weighter.get_column('IT73AnalysisIceTopQualityCuts', 'IceTop_reco_succeeded').astype(bool))\n",
    "    print('Saved!')\n",
    "else:\n",
    "    print('File already exists, skipping')"
   ]
  },
  {
   "cell_type": "code",
   "execution_count": null,
   "metadata": {},
   "outputs": [],
   "source": [
    "# Save zenith cut\n",
    "if not os.path.isfile(f'saved_data/{year}/{simulation}/zenith_cut.npy'):\n",
    "    print('Saving zenith cut...')\n",
    "    with open(f'saved_data/{year}/{simulation}/zenith_cut.npy', 'wb') as f:\n",
    "        np.save(f, weighter.get_column('MCPrimary', 'zenith') < 0.9599310886)\n",
    "    print('Saved!')\n",
    "else:\n",
    "    print('File already exists, skipping')"
   ]
  }
 ],
 "metadata": {
  "kernelspec": {
   "display_name": "py3-v4.3.0: v1.12.1",
   "language": "shell",
   "name": "py3-v4.3.0_v1.12.1"
  },
  "language_info": {
   "codemirror_mode": {
    "name": "ipython",
    "version": 3
   },
   "file_extension": ".py",
   "mimetype": "text/x-python",
   "name": "python",
   "nbconvert_exporter": "python",
   "pygments_lexer": "ipython3",
   "version": "3.11.3"
  }
 },
 "nbformat": 4,
 "nbformat_minor": 2
}
