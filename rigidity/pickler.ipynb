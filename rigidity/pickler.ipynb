{
 "cells": [
  {
   "cell_type": "markdown",
   "metadata": {},
   "source": [
    "# If you're going to change something in this notebook after running it, restart the kernel - otherwise, it'll do it for you"
   ]
  },
  {
   "cell_type": "markdown",
   "metadata": {},
   "source": [
    "## Imports"
   ]
  },
  {
   "cell_type": "code",
   "execution_count": 1,
   "metadata": {},
   "outputs": [],
   "source": [
    "import os, sys, glob, tables\n",
    "import numpy as np\n",
    "# pip install simweights <--- run this once to install the package\n",
    "# then replace <username> with your username and <version> with your Python version\n",
    "sys.path.append('/home/tfutrell/.local/lib/python3.12/site-packages')\n",
    "import simweights"
   ]
  },
  {
   "cell_type": "markdown",
   "metadata": {},
   "source": [
    "## Sim folders:"
   ]
  },
  {
   "cell_type": "code",
   "execution_count": 2,
   "metadata": {},
   "outputs": [
    {
     "data": {
      "text/plain": [
       "\"\\n2012:\\n    EPOS:\\n        Fe:\\n            /data/ana/CosmicRay/IceTop_level3/sim/IC86.2012/EPOS-LHC/Fe/12635_v1s/h5files/*.h5\\n            /data/ana/CosmicRay/IceTop_level3/sim/IC86.2012/EPOS-LHC/Fe/20197_v1s/h5files/*.h5\\n        p:\\n            /data/ana/CosmicRay/IceTop_level3/sim/IC86.2012/EPOS-LHC/p/12634_v1s/h5files/*.h5\\n            /data/ana/CosmicRay/IceTop_level3/sim/IC86.2012/EPOS-LHC/p/12634_v1s/h5files/*.h5\\n            /data/ana/CosmicRay/IceTop_level3/sim/IC86.2012/EPOS-LHC/p/20196_v1s/h5files/*.h5\\n    SIBYLL2.1:\\n        Fe:\\n            /data/ana/CosmicRay/IceTop_level3/sim/IC86.2012/SIBYLL2.1/Fe/12362_v1s/h5files/*.h5\\n            /data/ana/CosmicRay/IceTop_level3/sim/IC86.2012/SIBYLL2.1/Fe/20144_v1s/h5files/*.h5\\n        He:\\n            /data/ana/CosmicRay/IceTop_level3/sim/IC86.2012/SIBYLL2.1/He/12630_v1s/h5files/*.h5\\n            /data/ana/CosmicRay/IceTop_level3/sim/IC86.2012/SIBYLL2.1/He/20145_v1s/h5files/*.h5\\n        O:\\n            /data/ana/CosmicRay/IceTop_level3/sim/IC86.2012/SIBYLL2.1/O/12631_v1s/h5files/*.h5\\n            /data/ana/CosmicRay/IceTop_level3/sim/IC86.2012/SIBYLL2.1/O/20146_v1s/h5files/*.h5\\n        p:\\n            /data/ana/CosmicRay/IceTop_level3/sim/IC86.2012/SIBYLL2.1/p/12360_v1s/h5files/*.h5\\n            /data/ana/CosmicRay/IceTop_level3/sim/IC86.2012/SIBYLL2.1/p/20143_v1s/h5files/*.h5\\n    SIBYLL2.3:\\n        /data/ana/CosmicRay/IceTop_level3/sim/IC86.2012/SIBYLL2.3/Fe/12633_v1s/h5files/*.h5\\n        /data/ana/CosmicRay/IceTop_level3/sim/IC86.2012/SIBYLL2.3/p/12632_v1s/h5files/*.h5\\n2015:\\n    SIBYLL2.1:\\n        '/data/ana/CosmicRay/IceTop_level3/sim/IC86.2015/SIBYLL2.1/p/20174_v1s/h5files/*.h5'\\n        '/data/ana/CosmicRay/IceTop_level3/sim/IC86.2015/SIBYLL2.1/He/20178_v1s/h5files/*.h5'\\n        '/data/ana/CosmicRay/IceTop_level3/sim/IC86.2015/SIBYLL2.1/O/20179_v1s/h5files/*.h5'\\n        '/data/ana/CosmicRay/IceTop_level3/sim/IC86.2015/SIBYLL2.1/Fe/20180_v1s/h5files/*.h5'\\n2018:\\n    EPOS:\\n        '/data/ana/CosmicRay/IceTop_level3/sim/IC86.2018/EPOS-LHC/Fe/23201_v3/h5files/*.h5'\\n        '/data/ana/CosmicRay/IceTop_level3/sim/IC86.2018/EPOS-LHC/He/23199_v3/h5files/*.h5'\\n        '/data/ana/CosmicRay/IceTop_level3/sim/IC86.2018/EPOS-LHC/O/23200_v3/h5files/*.h5'\\n        '/data/ana/CosmicRay/IceTop_level3/sim/IC86.2018/EPOS-LHC/p/23198_v3/h5files/*.h5'\\n    SIBYLL2.3d:\\n        Fe:\\n            '/data/ana/CosmicRay/IceTop_level3/sim/IC86.2018/SIBYLL2.3d/Fe/22585_v3/h5files/*.h5'\\n            '/data/ana/CosmicRay/IceTop_level3/sim/IC86.2018/SIBYLL2.3d/Fe/22586_v3//h5files/*.h5'\\n            '/data/ana/CosmicRay/IceTop_level3/sim/IC86.2018/SIBYLL2.3d/Fe/22888_v3/h5files/*.h5'\\n            '/data/ana/CosmicRay/IceTop_level3/sim/IC86.2018/SIBYLL2.3d/Fe/22891_v3/h5files/*.h5'\\n            '/data/ana/CosmicRay/IceTop_level3/sim/IC86.2018/SIBYLL2.3d/Fe/22892_v3/h5files/*.h5'\\n            '/data/ana/CosmicRay/IceTop_level3/sim/IC86.2018/SIBYLL2.3d/Fe/22893_v3/h5files/*.h5'\\n            '/data/ana/CosmicRay/IceTop_level3/sim/IC86.2018/SIBYLL2.3d/Fe/22894_v3/h5files/*.h5'\\n            '/data/ana/CosmicRay/IceTop_level3/sim/IC86.2018/SIBYLL2.3d/Fe/22943_v3/h5files/*.h5'\\n            '/data/ana/CosmicRay/IceTop_level3/sim/IC86.2018/SIBYLL2.3d/Fe/22976_v3/h5files/*.h5'\\n            '/data/ana/CosmicRay/IceTop_level3/sim/IC86.2018/SIBYLL2.3d/Fe/22977_v3/h5files/*.h5'\\n            '/data/ana/CosmicRay/IceTop_level3/sim/IC86.2018/SIBYLL2.3d/Fe/22978_v3/h5files/*.h5'\\n            '/data/ana/CosmicRay/IceTop_level3/sim/IC86.2018/SIBYLL2.3d/Fe/22979_v3/h5files/*.h5'\\n        He:\\n            '/data/ana/CosmicRay/IceTop_level3/sim/IC86.2018/SIBYLL2.3d/He/22579_v3/h5files/*.h5'\\n            '/data/ana/CosmicRay/IceTop_level3/sim/IC86.2018/SIBYLL2.3d/He/22580_v3/h5files/*.h5'\\n            '/data/ana/CosmicRay/IceTop_level3/sim/IC86.2018/SIBYLL2.3d/He/22922_v3/h5files/*.h5'\\n            '/data/ana/CosmicRay/IceTop_level3/sim/IC86.2018/SIBYLL2.3d/He/22923_v3/h5files/*.h5'\\n            '/data/ana/CosmicRay/IceTop_level3/sim/IC86.2018/SIBYLL2.3d/He/22924_v3/h5files/*.h5'\\n            '/data/ana/CosmicRay/IceTop_level3/sim/IC86.2018/SIBYLL2.3d/He/22925_v3/h5files/*.h5'\\n            '/data/ana/CosmicRay/IceTop_level3/sim/IC86.2018/SIBYLL2.3d/He/22926_v3/h5files/*.h5'\\n            '/data/ana/CosmicRay/IceTop_level3/sim/IC86.2018/SIBYLL2.3d/He/22941_v3/h5files/*.h5'\\n            '/data/ana/CosmicRay/IceTop_level3/sim/IC86.2018/SIBYLL2.3d/He/22966_v3/h5files/*.h5'\\n            '/data/ana/CosmicRay/IceTop_level3/sim/IC86.2018/SIBYLL2.3d/He/22967_v3/h5files/*.h5'\\n            '/data/ana/CosmicRay/IceTop_level3/sim/IC86.2018/SIBYLL2.3d/He/22968_v3/h5files/*.h5'\\n            '/data/ana/CosmicRay/IceTop_level3/sim/IC86.2018/SIBYLL2.3d/He/22969_v3/h5files/*.h5'\\n        O:\\n            '/data/ana/CosmicRay/IceTop_level3/sim/IC86.2018/SIBYLL2.3d/O/22581_v3/h5files/*.h5'\\n            '/data/ana/CosmicRay/IceTop_level3/sim/IC86.2018/SIBYLL2.3d/O/22583_v3/h5files/*.h5'\\n            '/data/ana/CosmicRay/IceTop_level3/sim/IC86.2018/SIBYLL2.3d/O/22932_v3/h5files/*.h5'\\n            '/data/ana/CosmicRay/IceTop_level3/sim/IC86.2018/SIBYLL2.3d/O/22942_v3/h5files/*.h5'\\n            '/data/ana/CosmicRay/IceTop_level3/sim/IC86.2018/SIBYLL2.3d/O/22970_v3/h5files/*.h5'\\n            '/data/ana/CosmicRay/IceTop_level3/sim/IC86.2018/SIBYLL2.3d/O/22971_v3/h5files/*.h5'\\n            '/data/ana/CosmicRay/IceTop_level3/sim/IC86.2018/SIBYLL2.3d/O/22974_v3/h5files/*.h5'\\n            '/data/ana/CosmicRay/IceTop_level3/sim/IC86.2018/SIBYLL2.3d/O/22975_v3/h5files/*.h5'\\n            '/data/ana/CosmicRay/IceTop_level3/sim/IC86.2018/SIBYLL2.3d/O/22981_v3/h5files/*.h5'\\n            '/data/ana/CosmicRay/IceTop_level3/sim/IC86.2018/SIBYLL2.3d/O/22982_v3/h5files/*.h5'\\n            '/data/ana/CosmicRay/IceTop_level3/sim/IC86.2018/SIBYLL2.3d/O/22984_v3/h5files/*.h5'\\n            '/data/ana/CosmicRay/IceTop_level3/sim/IC86.2018/SIBYLL2.3d/O/22985_v3/h5files/*.h5'\\n        p:\\n            '/data/ana/CosmicRay/IceTop_level3/sim/IC86.2018/SIBYLL2.3d/p/22569_v3/h5files/*.h5'\\n            '/data/ana/CosmicRay/IceTop_level3/sim/IC86.2018/SIBYLL2.3d/p/22570_v3/h5files/*.h5'\\n            '/data/ana/CosmicRay/IceTop_level3/sim/IC86.2018/SIBYLL2.3d/p/22899_v3/h5files/*.h5'\\n            '/data/ana/CosmicRay/IceTop_level3/sim/IC86.2018/SIBYLL2.3d/p/22900_v3/h5files/*.h5'\\n            '/data/ana/CosmicRay/IceTop_level3/sim/IC86.2018/SIBYLL2.3d/p/22919_v3/h5files/*.h5'\\n            '/data/ana/CosmicRay/IceTop_level3/sim/IC86.2018/SIBYLL2.3d/p/22920_v3/h5files/*.h5'\\n            '/data/ana/CosmicRay/IceTop_level3/sim/IC86.2018/SIBYLL2.3d/p/22921_v3/h5files/*.h5'\\n            '/data/ana/CosmicRay/IceTop_level3/sim/IC86.2018/SIBYLL2.3d/p/22940_v3/h5files/*.h5'\\n            '/data/ana/CosmicRay/IceTop_level3/sim/IC86.2018/SIBYLL2.3d/p/22962_v3/h5files/*.h5'\\n            '/data/ana/CosmicRay/IceTop_level3/sim/IC86.2018/SIBYLL2.3d/p/22963_v3/h5files/*.h5'\\n            '/data/ana/CosmicRay/IceTop_level3/sim/IC86.2018/SIBYLL2.3d/p/22964_v3/h5files/*.h5'\\n            '/data/ana/CosmicRay/IceTop_level3/sim/IC86.2018/SIBYLL2.3d/p/22965_v3/h5files/*.h5'\\n            '/data/ana/CosmicRay/IceTop_level3/sim/IC86.2018/SIBYLL2.3d/p/23074_v3/h5files/*.h5'\\n            '/data/ana/CosmicRay/IceTop_level3/sim/IC86.2018/SIBYLL2.3d/p/23080_v3/h5files/*.h5'\\n            '/data/ana/CosmicRay/IceTop_level3/sim/IC86.2018/SIBYLL2.3d/p/23094_v3/h5files/*.h5'\\n\""
      ]
     },
     "execution_count": 2,
     "metadata": {},
     "output_type": "execute_result"
    }
   ],
   "source": [
    "'''\n",
    "2012:\n",
    "    EPOS:\n",
    "        Fe:\n",
    "            /data/ana/CosmicRay/IceTop_level3/sim/IC86.2012/EPOS-LHC/Fe/12635_v1s/h5files/*.h5\n",
    "            /data/ana/CosmicRay/IceTop_level3/sim/IC86.2012/EPOS-LHC/Fe/20197_v1s/h5files/*.h5\n",
    "        p:\n",
    "            /data/ana/CosmicRay/IceTop_level3/sim/IC86.2012/EPOS-LHC/p/12634_v1s/h5files/*.h5\n",
    "            /data/ana/CosmicRay/IceTop_level3/sim/IC86.2012/EPOS-LHC/p/12634_v1s/h5files/*.h5\n",
    "            /data/ana/CosmicRay/IceTop_level3/sim/IC86.2012/EPOS-LHC/p/20196_v1s/h5files/*.h5\n",
    "    SIBYLL2.1:\n",
    "        Fe:\n",
    "            /data/ana/CosmicRay/IceTop_level3/sim/IC86.2012/SIBYLL2.1/Fe/12362_v1s/h5files/*.h5\n",
    "            /data/ana/CosmicRay/IceTop_level3/sim/IC86.2012/SIBYLL2.1/Fe/20144_v1s/h5files/*.h5\n",
    "        He:\n",
    "            /data/ana/CosmicRay/IceTop_level3/sim/IC86.2012/SIBYLL2.1/He/12630_v1s/h5files/*.h5\n",
    "            /data/ana/CosmicRay/IceTop_level3/sim/IC86.2012/SIBYLL2.1/He/20145_v1s/h5files/*.h5\n",
    "        O:\n",
    "            /data/ana/CosmicRay/IceTop_level3/sim/IC86.2012/SIBYLL2.1/O/12631_v1s/h5files/*.h5\n",
    "            /data/ana/CosmicRay/IceTop_level3/sim/IC86.2012/SIBYLL2.1/O/20146_v1s/h5files/*.h5\n",
    "        p:\n",
    "            /data/ana/CosmicRay/IceTop_level3/sim/IC86.2012/SIBYLL2.1/p/12360_v1s/h5files/*.h5\n",
    "            /data/ana/CosmicRay/IceTop_level3/sim/IC86.2012/SIBYLL2.1/p/20143_v1s/h5files/*.h5\n",
    "    SIBYLL2.3:\n",
    "        /data/ana/CosmicRay/IceTop_level3/sim/IC86.2012/SIBYLL2.3/Fe/12633_v1s/h5files/*.h5\n",
    "        /data/ana/CosmicRay/IceTop_level3/sim/IC86.2012/SIBYLL2.3/p/12632_v1s/h5files/*.h5\n",
    "2015:\n",
    "    SIBYLL2.1:\n",
    "        '/data/ana/CosmicRay/IceTop_level3/sim/IC86.2015/SIBYLL2.1/p/20174_v1s/h5files/*.h5'\n",
    "        '/data/ana/CosmicRay/IceTop_level3/sim/IC86.2015/SIBYLL2.1/He/20178_v1s/h5files/*.h5'\n",
    "        '/data/ana/CosmicRay/IceTop_level3/sim/IC86.2015/SIBYLL2.1/O/20179_v1s/h5files/*.h5'\n",
    "        '/data/ana/CosmicRay/IceTop_level3/sim/IC86.2015/SIBYLL2.1/Fe/20180_v1s/h5files/*.h5'\n",
    "2018:\n",
    "    EPOS:\n",
    "        '/data/ana/CosmicRay/IceTop_level3/sim/IC86.2018/EPOS-LHC/Fe/23201_v3/h5files/*.h5'\n",
    "        '/data/ana/CosmicRay/IceTop_level3/sim/IC86.2018/EPOS-LHC/He/23199_v3/h5files/*.h5'\n",
    "        '/data/ana/CosmicRay/IceTop_level3/sim/IC86.2018/EPOS-LHC/O/23200_v3/h5files/*.h5'\n",
    "        '/data/ana/CosmicRay/IceTop_level3/sim/IC86.2018/EPOS-LHC/p/23198_v3/h5files/*.h5'\n",
    "    SIBYLL2.3d:\n",
    "        Fe:\n",
    "            '/data/ana/CosmicRay/IceTop_level3/sim/IC86.2018/SIBYLL2.3d/Fe/22585_v3/h5files/*.h5'\n",
    "            '/data/ana/CosmicRay/IceTop_level3/sim/IC86.2018/SIBYLL2.3d/Fe/22586_v3//h5files/*.h5'\n",
    "            '/data/ana/CosmicRay/IceTop_level3/sim/IC86.2018/SIBYLL2.3d/Fe/22888_v3/h5files/*.h5'\n",
    "            '/data/ana/CosmicRay/IceTop_level3/sim/IC86.2018/SIBYLL2.3d/Fe/22891_v3/h5files/*.h5'\n",
    "            '/data/ana/CosmicRay/IceTop_level3/sim/IC86.2018/SIBYLL2.3d/Fe/22892_v3/h5files/*.h5'\n",
    "            '/data/ana/CosmicRay/IceTop_level3/sim/IC86.2018/SIBYLL2.3d/Fe/22893_v3/h5files/*.h5'\n",
    "            '/data/ana/CosmicRay/IceTop_level3/sim/IC86.2018/SIBYLL2.3d/Fe/22894_v3/h5files/*.h5'\n",
    "            '/data/ana/CosmicRay/IceTop_level3/sim/IC86.2018/SIBYLL2.3d/Fe/22943_v3/h5files/*.h5'\n",
    "            '/data/ana/CosmicRay/IceTop_level3/sim/IC86.2018/SIBYLL2.3d/Fe/22976_v3/h5files/*.h5'\n",
    "            '/data/ana/CosmicRay/IceTop_level3/sim/IC86.2018/SIBYLL2.3d/Fe/22977_v3/h5files/*.h5'\n",
    "            '/data/ana/CosmicRay/IceTop_level3/sim/IC86.2018/SIBYLL2.3d/Fe/22978_v3/h5files/*.h5'\n",
    "            '/data/ana/CosmicRay/IceTop_level3/sim/IC86.2018/SIBYLL2.3d/Fe/22979_v3/h5files/*.h5'\n",
    "        He:\n",
    "            '/data/ana/CosmicRay/IceTop_level3/sim/IC86.2018/SIBYLL2.3d/He/22579_v3/h5files/*.h5'\n",
    "            '/data/ana/CosmicRay/IceTop_level3/sim/IC86.2018/SIBYLL2.3d/He/22580_v3/h5files/*.h5'\n",
    "            '/data/ana/CosmicRay/IceTop_level3/sim/IC86.2018/SIBYLL2.3d/He/22922_v3/h5files/*.h5'\n",
    "            '/data/ana/CosmicRay/IceTop_level3/sim/IC86.2018/SIBYLL2.3d/He/22923_v3/h5files/*.h5'\n",
    "            '/data/ana/CosmicRay/IceTop_level3/sim/IC86.2018/SIBYLL2.3d/He/22924_v3/h5files/*.h5'\n",
    "            '/data/ana/CosmicRay/IceTop_level3/sim/IC86.2018/SIBYLL2.3d/He/22925_v3/h5files/*.h5'\n",
    "            '/data/ana/CosmicRay/IceTop_level3/sim/IC86.2018/SIBYLL2.3d/He/22926_v3/h5files/*.h5'\n",
    "            '/data/ana/CosmicRay/IceTop_level3/sim/IC86.2018/SIBYLL2.3d/He/22941_v3/h5files/*.h5'\n",
    "            '/data/ana/CosmicRay/IceTop_level3/sim/IC86.2018/SIBYLL2.3d/He/22966_v3/h5files/*.h5'\n",
    "            '/data/ana/CosmicRay/IceTop_level3/sim/IC86.2018/SIBYLL2.3d/He/22967_v3/h5files/*.h5'\n",
    "            '/data/ana/CosmicRay/IceTop_level3/sim/IC86.2018/SIBYLL2.3d/He/22968_v3/h5files/*.h5'\n",
    "            '/data/ana/CosmicRay/IceTop_level3/sim/IC86.2018/SIBYLL2.3d/He/22969_v3/h5files/*.h5'\n",
    "        O:\n",
    "            '/data/ana/CosmicRay/IceTop_level3/sim/IC86.2018/SIBYLL2.3d/O/22581_v3/h5files/*.h5'\n",
    "            '/data/ana/CosmicRay/IceTop_level3/sim/IC86.2018/SIBYLL2.3d/O/22583_v3/h5files/*.h5'\n",
    "            '/data/ana/CosmicRay/IceTop_level3/sim/IC86.2018/SIBYLL2.3d/O/22932_v3/h5files/*.h5'\n",
    "            '/data/ana/CosmicRay/IceTop_level3/sim/IC86.2018/SIBYLL2.3d/O/22942_v3/h5files/*.h5'\n",
    "            '/data/ana/CosmicRay/IceTop_level3/sim/IC86.2018/SIBYLL2.3d/O/22970_v3/h5files/*.h5'\n",
    "            '/data/ana/CosmicRay/IceTop_level3/sim/IC86.2018/SIBYLL2.3d/O/22971_v3/h5files/*.h5'\n",
    "            '/data/ana/CosmicRay/IceTop_level3/sim/IC86.2018/SIBYLL2.3d/O/22974_v3/h5files/*.h5'\n",
    "            '/data/ana/CosmicRay/IceTop_level3/sim/IC86.2018/SIBYLL2.3d/O/22975_v3/h5files/*.h5'\n",
    "            '/data/ana/CosmicRay/IceTop_level3/sim/IC86.2018/SIBYLL2.3d/O/22981_v3/h5files/*.h5'\n",
    "            '/data/ana/CosmicRay/IceTop_level3/sim/IC86.2018/SIBYLL2.3d/O/22982_v3/h5files/*.h5'\n",
    "            '/data/ana/CosmicRay/IceTop_level3/sim/IC86.2018/SIBYLL2.3d/O/22984_v3/h5files/*.h5'\n",
    "            '/data/ana/CosmicRay/IceTop_level3/sim/IC86.2018/SIBYLL2.3d/O/22985_v3/h5files/*.h5'\n",
    "        p:\n",
    "            '/data/ana/CosmicRay/IceTop_level3/sim/IC86.2018/SIBYLL2.3d/p/22569_v3/h5files/*.h5'\n",
    "            '/data/ana/CosmicRay/IceTop_level3/sim/IC86.2018/SIBYLL2.3d/p/22570_v3/h5files/*.h5'\n",
    "            '/data/ana/CosmicRay/IceTop_level3/sim/IC86.2018/SIBYLL2.3d/p/22899_v3/h5files/*.h5'\n",
    "            '/data/ana/CosmicRay/IceTop_level3/sim/IC86.2018/SIBYLL2.3d/p/22900_v3/h5files/*.h5'\n",
    "            '/data/ana/CosmicRay/IceTop_level3/sim/IC86.2018/SIBYLL2.3d/p/22919_v3/h5files/*.h5'\n",
    "            '/data/ana/CosmicRay/IceTop_level3/sim/IC86.2018/SIBYLL2.3d/p/22920_v3/h5files/*.h5'\n",
    "            '/data/ana/CosmicRay/IceTop_level3/sim/IC86.2018/SIBYLL2.3d/p/22921_v3/h5files/*.h5'\n",
    "            '/data/ana/CosmicRay/IceTop_level3/sim/IC86.2018/SIBYLL2.3d/p/22940_v3/h5files/*.h5'\n",
    "            '/data/ana/CosmicRay/IceTop_level3/sim/IC86.2018/SIBYLL2.3d/p/22962_v3/h5files/*.h5'\n",
    "            '/data/ana/CosmicRay/IceTop_level3/sim/IC86.2018/SIBYLL2.3d/p/22963_v3/h5files/*.h5'\n",
    "            '/data/ana/CosmicRay/IceTop_level3/sim/IC86.2018/SIBYLL2.3d/p/22964_v3/h5files/*.h5'\n",
    "            '/data/ana/CosmicRay/IceTop_level3/sim/IC86.2018/SIBYLL2.3d/p/22965_v3/h5files/*.h5'\n",
    "            '/data/ana/CosmicRay/IceTop_level3/sim/IC86.2018/SIBYLL2.3d/p/23074_v3/h5files/*.h5'\n",
    "            '/data/ana/CosmicRay/IceTop_level3/sim/IC86.2018/SIBYLL2.3d/p/23080_v3/h5files/*.h5'\n",
    "            '/data/ana/CosmicRay/IceTop_level3/sim/IC86.2018/SIBYLL2.3d/p/23094_v3/h5files/*.h5'\n",
    "'''"
   ]
  },
  {
   "cell_type": "markdown",
   "metadata": {},
   "source": [
    "## Set up weighter"
   ]
  },
  {
   "cell_type": "code",
   "execution_count": 3,
   "metadata": {},
   "outputs": [
    {
     "name": "stdout",
     "output_type": "stream",
     "text": [
      "Getting iron weights...\n",
      "Got iron weights!\n"
     ]
    }
   ],
   "source": [
    "weighter = None\n",
    "print('Getting iron weights...')\n",
    "fe_list = glob.glob('/data/ana/CosmicRay/IceTop_level3/sim/IC86.2015/SIBYLL2.1/Fe/20180_v1s/h5files/*.h5')\n",
    "\n",
    "for filename in fe_list:\n",
    "    file_obj = tables.open_file(filename, 'r')\n",
    "    \n",
    "    if weighter is None:\n",
    "        weighter = simweights.IceTopWeighter(file_obj)\n",
    "    else:\n",
    "        weighter += simweights.IceTopWeighter(file_obj)\n",
    "\n",
    "print('Got iron weights!')        "
   ]
  },
  {
   "cell_type": "code",
   "execution_count": 4,
   "metadata": {},
   "outputs": [
    {
     "name": "stdout",
     "output_type": "stream",
     "text": [
      "Getting helium weights...\n",
      "Got helium weights!\n"
     ]
    }
   ],
   "source": [
    "print('Getting helium weights...')\n",
    "he_list = glob.glob('/data/ana/CosmicRay/IceTop_level3/sim/IC86.2015/SIBYLL2.1/He/20178_v1s/h5files/*.h5')\n",
    "\n",
    "for filename in he_list:\n",
    "    file_obj = tables.open_file(filename, 'r')\n",
    "    weighter += simweights.IceTopWeighter(file_obj)\n",
    "\n",
    "print('Got helium weights!')"
   ]
  },
  {
   "cell_type": "code",
   "execution_count": 5,
   "metadata": {},
   "outputs": [
    {
     "name": "stdout",
     "output_type": "stream",
     "text": [
      "Getting oxygen weights...\n",
      "Got oxygen weights!\n"
     ]
    }
   ],
   "source": [
    "print('Getting oxygen weights...')\n",
    "o_list = glob.glob('/data/ana/CosmicRay/IceTop_level3/sim/IC86.2015/SIBYLL2.1/O/20179_v1s/h5files/*.h5')\n",
    "    \n",
    "    \n",
    "for filename in o_list:\n",
    "    file_obj = tables.open_file(filename, 'r')\n",
    "    weighter += simweights.IceTopWeighter(file_obj)\n",
    "\n",
    "print('Got oxygen weights!')"
   ]
  },
  {
   "cell_type": "code",
   "execution_count": 6,
   "metadata": {},
   "outputs": [
    {
     "name": "stdout",
     "output_type": "stream",
     "text": [
      "Getting proton weights...\n",
      "Got proton weights!\n"
     ]
    }
   ],
   "source": [
    "print('Getting proton weights...')\n",
    "p_list = glob.glob('/data/ana/CosmicRay/IceTop_level3/sim/IC86.2015/SIBYLL2.1/p/20174_v1s/h5files/*.h5')\n",
    "\n",
    "for filename in p_list:\n",
    "    file_obj = tables.open_file(filename, 'r')\n",
    "    weighter += simweights.IceTopWeighter(file_obj)\n",
    "\n",
    "print('Got proton weights!')"
   ]
  },
  {
   "cell_type": "markdown",
   "metadata": {},
   "source": [
    "## Save data"
   ]
  },
  {
   "cell_type": "code",
   "execution_count": 7,
   "metadata": {},
   "outputs": [
    {
     "name": "stdout",
     "output_type": "stream",
     "text": [
      "Saving energy...\n",
      "Saved!\n"
     ]
    }
   ],
   "source": [
    "# Save energy\n",
    "if not os.path.isfile('saved_data/energy.npy'):\n",
    "    print('Saving energy...')\n",
    "    with open('saved_data/energy.npy', 'wb') as f:\n",
    "        np.save(f, weighter.get_column('MCPrimary', 'energy'))\n",
    "    print('Saved!')\n",
    "else:\n",
    "    print('File already exists, skipping')"
   ]
  },
  {
   "cell_type": "code",
   "execution_count": 8,
   "metadata": {},
   "outputs": [
    {
     "name": "stdout",
     "output_type": "stream",
     "text": [
      "Saving particle type...\n",
      "Saved!\n"
     ]
    }
   ],
   "source": [
    "# Save particle type\n",
    "if not os.path.isfile('saved_data/particle_type.npy'):\n",
    "    print('Saving particle type...')\n",
    "    with open('saved_data/particle_type.npy', 'wb') as f:\n",
    "        np.save(f, weighter.get_column('MCPrimary', 'type'))\n",
    "    print('Saved!')\n",
    "else:\n",
    "    print('File already exists, skipping')"
   ]
  },
  {
   "cell_type": "code",
   "execution_count": 9,
   "metadata": {},
   "outputs": [
    {
     "name": "stdout",
     "output_type": "stream",
     "text": [
      "Saving H4a weights...\n",
      "Saved!\n"
     ]
    }
   ],
   "source": [
    "# Save H4a weights\n",
    "if not os.path.isfile('saved_data/Hweights.npy'):\n",
    "    print('Saving H4a weights...')\n",
    "    with open('saved_data/Hweights.npy', 'wb') as f:\n",
    "        np.save(f, weighter.get_weights(simweights.GaisserH4a_IT()))\n",
    "    print('Saved!')\n",
    "else:\n",
    "    print('File already exists, skipping')"
   ]
  },
  {
   "cell_type": "code",
   "execution_count": 10,
   "metadata": {},
   "outputs": [
    {
     "name": "stdout",
     "output_type": "stream",
     "text": [
      "Saving GSF weights...\n",
      "Saved!\n"
     ]
    }
   ],
   "source": [
    "# Save GSF weights\n",
    "if not os.path.isfile('saved_data/Gweights.npy'):\n",
    "    print('Saving GSF weights...')\n",
    "    with open('saved_data/Gweights.npy', 'wb') as f:\n",
    "        np.save(f, weighter.get_weights(simweights.GlobalSplineFit_IT()))\n",
    "    print('Saved!')\n",
    "else:\n",
    "    print('File already exists, skipping')"
   ]
  },
  {
   "cell_type": "code",
   "execution_count": 11,
   "metadata": {},
   "outputs": [
    {
     "name": "stdout",
     "output_type": "stream",
     "text": [
      "Saving hits...\n",
      "Saved!\n"
     ]
    }
   ],
   "source": [
    "# Save hits\n",
    "if not os.path.isfile('saved_data/hits.npy'):\n",
    "    print('Saving hits...')\n",
    "    with open('saved_data/hits.npy', 'wb') as f:\n",
    "        np.save(f, weighter.get_column('IceTopHLCSeedRTPulses_SnowUnAttenuated_info', 'nstrings').astype(int))\n",
    "    print('Saved!')\n",
    "else:\n",
    "    print('File already exists, skipping')"
   ]
  },
  {
   "cell_type": "code",
   "execution_count": 12,
   "metadata": {},
   "outputs": [
    {
     "name": "stdout",
     "output_type": "stream",
     "text": [
      "Saving reco_pass...\n",
      "Saved!\n"
     ]
    }
   ],
   "source": [
    "# Save reconstruction passed cut\n",
    "if not os.path.isfile('saved_data/reco_pass.npy'):\n",
    "    print('Saving reco_pass...')\n",
    "    with open('saved_data/reco_pass.npy', 'wb') as f:\n",
    "        np.save(f, weighter.get_column('IT73AnalysisIceTopQualityCuts', 'IceTop_reco_succeeded').astype(bool))\n",
    "    print('Saved!')\n",
    "else:\n",
    "    print('File already exists, skipping')"
   ]
  },
  {
   "cell_type": "code",
   "execution_count": 13,
   "metadata": {},
   "outputs": [
    {
     "name": "stdout",
     "output_type": "stream",
     "text": [
      "Saving zenith cut...\n",
      "Saved!\n"
     ]
    }
   ],
   "source": [
    "# Save zenith cut\n",
    "if not os.path.isfile('saved_data/_cut.npy'):\n",
    "    print('Saving zenith cut...')\n",
    "    with open('saved_data/zenith_cut.npy', 'wb') as f:\n",
    "        np.save(f, weighter.get_column('MCPrimary', 'zenith') < 0.9599310886)\n",
    "    print('Saved!')\n",
    "else:\n",
    "    print('File already exists, skipping')"
   ]
  }
 ],
 "metadata": {
  "kernelspec": {
   "display_name": "py3-v4.3.0: v1.12.1",
   "language": "shell",
   "name": "py3-v4.3.0_v1.12.1"
  },
  "language_info": {
   "codemirror_mode": {
    "name": "ipython",
    "version": 3
   },
   "file_extension": ".py",
   "mimetype": "text/x-python",
   "name": "python",
   "nbconvert_exporter": "python",
   "pygments_lexer": "ipython3",
   "version": "3.11.3"
  }
 },
 "nbformat": 4,
 "nbformat_minor": 2
}
