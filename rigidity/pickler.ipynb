{
 "cells": [
  {
   "cell_type": "markdown",
   "metadata": {},
   "source": [
    "# If you're going to change something in this notebook after running it, restart the kernel - otherwise, it'll do it for you"
   ]
  },
  {
   "cell_type": "code",
   "execution_count": 1,
   "metadata": {},
   "outputs": [],
   "source": [
    "import os, sys, glob, pickle, tables\n",
    "import numpy as np\n",
    "# pip install simweights <--- run this once to install the package\n",
    "# then replace <username> with your username and <version> with your Python version\n",
    "sys.path.append('/home/tfutrell/.local/lib/python3.12/site-packages')\n",
    "import simweights"
   ]
  },
  {
   "cell_type": "code",
   "execution_count": 2,
   "metadata": {},
   "outputs": [],
   "source": [
    "'''All sim folders with h5 files:\n",
    "/data/ana/CosmicRay/IceTop_level3/sim/IC86.2018/SIBYLL2.3d/O/22974_v2/h5files/*.h5\n",
    "/data/ana/CosmicRay/IceTop_level3/sim/IC86.2018/SIBYLL2.3d/O/22974_v3/h5files/*.h5\n",
    "/data/ana/CosmicRay/IceTop_level3/sim/IC86.2018/SIBYLL2.3d/O/22975_v2/h5files/*.h5\n",
    "/data/ana/CosmicRay/IceTop_level3/sim/IC86.2018/SIBYLL2.3d/O/22975_v3/h5files/*.h5\n",
    "/data/ana/CosmicRay/IceTop_level3/sim/IC86.2018/SIBYLL2.3d/O/22981_v2/h5files/*.h5\n",
    "/data/ana/CosmicRay/IceTop_level3/sim/IC86.2018/SIBYLL2.3d/O/22981_v3/h5files/*.h5\n",
    "/data/ana/CosmicRay/IceTop_level3/sim/IC86.2018/SIBYLL2.3d/O/22982_v2/h5files/*.h5\n",
    "/data/ana/CosmicRay/IceTop_level3/sim/IC86.2018/SIBYLL2.3d/O/22982_v3/h5files/*.h5\n",
    "/data/ana/CosmicRay/IceTop_level3/sim/IC86.2018/SIBYLL2.3d/O/22984_v2/h5files/*.h5\n",
    "/data/ana/CosmicRay/IceTop_level3/sim/IC86.2018/SIBYLL2.3d/O/22984_v3/h5files/*.h5\n",
    "/data/ana/CosmicRay/IceTop_level3/sim/IC86.2018/SIBYLL2.3d/O/22985_v2/h5files/*.h5\n",
    "/data/ana/CosmicRay/IceTop_level3/sim/IC86.2018/SIBYLL2.3d/O/22985_v3/h5files/*.h5\n",
    "/data/ana/CosmicRay/IceTop_level3/sim/IC86.2018/SIBYLL2.3d/O_allE_links/h5files/*.h5\n",
    "/data/ana/CosmicRay/IceTop_level3/sim/IC86.2018/SIBYLL2.3d/O_allE_links_v3/h5files/*.h5\n",
    "/data/ana/CosmicRay/IceTop_level3/sim/IC86.2018/SIBYLL2.3d/Si/22594_v2/h5files/*.h5\n",
    "/data/ana/CosmicRay/IceTop_level3/sim/IC86.2018/SIBYLL2.3d/Si/22594_v3/h5files/*.h5\n",
    "/data/ana/CosmicRay/IceTop_level3/sim/IC86.2018/SIBYLL2.3d/Si/22596_v2/h5files/*.h5\n",
    "/data/ana/CosmicRay/IceTop_level3/sim/IC86.2018/SIBYLL2.3d/Si/22596_v3/h5files/*.h5\n",
    "/data/ana/CosmicRay/IceTop_level3/sim/IC86.2018/SIBYLL2.3d/Si/22998_v3/h5files/*.h5\n",
    "/data/ana/CosmicRay/IceTop_level3/sim/IC86.2018/SIBYLL2.3d/Si/23000_v3/h5files/*.h5\n",
    "/data/ana/CosmicRay/IceTop_level3/sim/IC86.2018/SIBYLL2.3d/Si/23001_v3/h5files/*.h5\n",
    "/data/ana/CosmicRay/IceTop_level3/sim/IC86.2018/SIBYLL2.3d/Si/23002_v3/h5files/*.h5\n",
    "/data/ana/CosmicRay/IceTop_level3/sim/IC86.2018/SIBYLL2.3d/Si/23003_v3/h5files/*.h5\n",
    "/data/ana/CosmicRay/IceTop_level3/sim/IC86.2018/SIBYLL2.3d/Si_allE_links_v3/h5files/*.h5\n",
    "/data/ana/CosmicRay/IceTop_level3/sim/IC86.2018/SIBYLL2.3d/p/22466_ITonly/h5files/*.h5\n",
    "/data/ana/CosmicRay/IceTop_level3/sim/IC86.2018/SIBYLL2.3d/p/22467_ITonly/h5files/*.h5\n",
    "/data/ana/CosmicRay/IceTop_level3/sim/IC86.2018/SIBYLL2.3d/p/22569_v2/h5files/*.h5\n",
    "/data/ana/CosmicRay/IceTop_level3/sim/IC86.2018/SIBYLL2.3d/p/22569_v3/h5files/*.h5\n",
    "/data/ana/CosmicRay/IceTop_level3/sim/IC86.2018/SIBYLL2.3d/p/22570_v2/h5files/*.h5\n",
    "/data/ana/CosmicRay/IceTop_level3/sim/IC86.2018/SIBYLL2.3d/p/22570_v3/h5files/*.h5\n",
    "/data/ana/CosmicRay/IceTop_level3/sim/IC86.2018/SIBYLL2.3d/p/22899_v2/h5files/*.h5\n",
    "/data/ana/CosmicRay/IceTop_level3/sim/IC86.2018/SIBYLL2.3d/p/22899_v3/h5files/*.h5\n",
    "/data/ana/CosmicRay/IceTop_level3/sim/IC86.2018/SIBYLL2.3d/p/22900_v2/h5files/*.h5\n",
    "/data/ana/CosmicRay/IceTop_level3/sim/IC86.2018/SIBYLL2.3d/p/22900_v3/h5files/*.h5\n",
    "/data/ana/CosmicRay/IceTop_level3/sim/IC86.2018/SIBYLL2.3d/p/22919_v2/h5files/*.h5\n",
    "/data/ana/CosmicRay/IceTop_level3/sim/IC86.2018/SIBYLL2.3d/p/22919_v3/h5files/*.h5\n",
    "/data/ana/CosmicRay/IceTop_level3/sim/IC86.2018/SIBYLL2.3d/p/22920_v2/h5files/*.h5\n",
    "/data/ana/CosmicRay/IceTop_level3/sim/IC86.2018/SIBYLL2.3d/p/22920_v3/h5files/*.h5\n",
    "/data/ana/CosmicRay/IceTop_level3/sim/IC86.2018/SIBYLL2.3d/p/22921_v2/h5files/*.h5\n",
    "/data/ana/CosmicRay/IceTop_level3/sim/IC86.2018/SIBYLL2.3d/p/22921_v3/h5files/*.h5\n",
    "/data/ana/CosmicRay/IceTop_level3/sim/IC86.2018/SIBYLL2.3d/p/22940_v2/h5files/*.h5\n",
    "/data/ana/CosmicRay/IceTop_level3/sim/IC86.2018/SIBYLL2.3d/p/22940_v3/h5files/*.h5\n",
    "/data/ana/CosmicRay/IceTop_level3/sim/IC86.2018/SIBYLL2.3d/p/22962_v2/h5files/*.h5\n",
    "/data/ana/CosmicRay/IceTop_level3/sim/IC86.2018/SIBYLL2.3d/p/22962_v3/h5files/*.h5\n",
    "/data/ana/CosmicRay/IceTop_level3/sim/IC86.2018/SIBYLL2.3d/p/22963_v2/h5files/*.h5\n",
    "/data/ana/CosmicRay/IceTop_level3/sim/IC86.2018/SIBYLL2.3d/p/22963_v3/h5files/*.h5\n",
    "/data/ana/CosmicRay/IceTop_level3/sim/IC86.2018/SIBYLL2.3d/p/22964_v2/h5files/*.h5\n",
    "/data/ana/CosmicRay/IceTop_level3/sim/IC86.2018/SIBYLL2.3d/p/22964_v3/h5files/*.h5\n",
    "/data/ana/CosmicRay/IceTop_level3/sim/IC86.2018/SIBYLL2.3d/p/22965_v2/h5files/*.h5\n",
    "/data/ana/CosmicRay/IceTop_level3/sim/IC86.2018/SIBYLL2.3d/p/22965_v3/h5files/*.h5\n",
    "/data/ana/CosmicRay/IceTop_level3/sim/IC86.2018/SIBYLL2.3d/p/23074_v3/h5files/*.h5\n",
    "/data/ana/CosmicRay/IceTop_level3/sim/IC86.2018/SIBYLL2.3d/p/23080_v3/h5files/*.h5\n",
    "/data/ana/CosmicRay/IceTop_level3/sim/IC86.2018/SIBYLL2.3d/p/23094_v3/h5files/*.h5\n",
    "/data/ana/CosmicRay/IceTop_level3/sim/IC86.2018/SIBYLL2.3d/p_allE_links/h5files/*.h5\n",
    "'''\n",
    "p_list = glob.glob('/data/ana/CosmicRay/IceTop_level3/sim/IC86.2015/SIBYLL2.1/p/20174_v1s/h5files/*.h5')\n",
    "he_list = glob.glob('/data/ana/CosmicRay/IceTop_level3/sim/IC86.2015/SIBYLL2.1/He/20178_v1s/h5files/*.h5')\n",
    "o_list = glob.glob('/data/ana/CosmicRay/IceTop_level3/sim/IC86.2015/SIBYLL2.1/O/20179_v1s/h5files/*.h5')\n",
    "fe_list = glob.glob('/data/ana/CosmicRay/IceTop_level3/sim/IC86.2015/SIBYLL2.1/Fe/20180_v1s/h5files/*.h5')\n",
    "\n",
    "bigfilelist = p_list + he_list + o_list + fe_list"
   ]
  },
  {
   "cell_type": "code",
   "execution_count": 3,
   "metadata": {},
   "outputs": [
    {
     "name": "stdout",
     "output_type": "stream",
     "text": [
      "Getting weights...\n"
     ]
    }
   ],
   "source": [
    "weighter = None\n",
    "print('Getting weights...')\n",
    "    \n",
    "for filename in bigfilelist:\n",
    "    file_obj = tables.open_file(filename, 'r')\n",
    "    \n",
    "    if weighter is None:\n",
    "        weighter = simweights.IceTopWeighter(file_obj)\n",
    "    else:\n",
    "        weighter += simweights.IceTopWeighter(file_obj)"
   ]
  },
  {
   "cell_type": "code",
   "execution_count": 4,
   "metadata": {},
   "outputs": [],
   "source": [
    "PICKLING_FILES = {\n",
    "    # Energy, type\n",
    "    'energy': weighter.get_column('MCPrimary', 'energy'),\n",
    "    'particle_type': weighter.get_column('MCPrimary', 'type'),\n",
    "    # 'zenith': weighter.get_column('Laputop', 'zenith'),\n",
    "    # Simulation weights\n",
    "    'Hweights': weighter.get_weights(simweights.GaisserH4a_IT()),\n",
    "    'Gweights': weighter.get_weights(simweights.GlobalSplineFit_IT()),\n",
    "    # Cuts\n",
    "    'hits': weighter.get_column('IceTopHLCSeedRTPulses_SnowUnAttenuated_info', 'nstrings'),\n",
    "    'reco_pass': weighter.get_column('IT73AnalysisIceTopQualityCuts', 'IceTop_reco_succeeded')\n",
    "}"
   ]
  },
  {
   "cell_type": "code",
   "execution_count": 5,
   "metadata": {},
   "outputs": [
    {
     "name": "stdout",
     "output_type": "stream",
     "text": [
      "Pickling energy...\n",
      "Pickling particle_type...\n",
      "Pickling Hweights...\n",
      "Pickling Gweights...\n",
      "Pickling hits...\n",
      "Pickling reco_pass...\n",
      "Finished!\n"
     ]
    },
    {
     "ename": "",
     "evalue": "",
     "output_type": "error",
     "traceback": [
      "\u001b[1;31mThe Kernel crashed while executing code in the current cell or a previous cell. \n",
      "\u001b[1;31mPlease review the code in the cell(s) to identify a possible cause of the failure. \n",
      "\u001b[1;31mClick <a href='https://aka.ms/vscodeJupyterKernelCrash'>here</a> for more info. \n",
      "\u001b[1;31mView Jupyter <a href='command:jupyter.viewOutput'>log</a> for further details."
     ]
    }
   ],
   "source": [
    "for key, array in PICKLING_FILES.items():\n",
    "    if not os.path.isfile(f'pickles/{key}.pkl'):\n",
    "        print(f'Pickling {key}...')\n",
    "        with open(f'pickles/{key}.pkl', 'wb') as f:\n",
    "            pickle.dump(array, f)\n",
    "\n",
    "print('Finished!')"
   ]
  }
 ],
 "metadata": {
  "kernelspec": {
   "display_name": "py3-v4.3.0: v1.12.1",
   "language": "shell",
   "name": "py3-v4.3.0_v1.12.1"
  },
  "language_info": {
   "codemirror_mode": {
    "name": "ipython",
    "version": 3
   },
   "file_extension": ".py",
   "mimetype": "text/x-python",
   "name": "python",
   "nbconvert_exporter": "python",
   "pygments_lexer": "ipython3",
   "version": "3.11.3"
  }
 },
 "nbformat": 4,
 "nbformat_minor": 2
}
