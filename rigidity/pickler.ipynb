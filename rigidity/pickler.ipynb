{
 "cells": [
  {
   "cell_type": "markdown",
   "metadata": {},
   "source": [
    "# If you're going to change something in this notebook after running it, restart the kernel - otherwise, it'll do it for you"
   ]
  },
  {
   "cell_type": "code",
   "execution_count": null,
   "metadata": {},
   "outputs": [],
   "source": [
    "import os, sys, glob, pickle, tables\n",
    "import numpy as np\n",
    "# pip install simweights <--- run this once to install the package\n",
    "# then replace <username> with your username and <version> with your Python version\n",
    "sys.path.append('/home/<username>/.local/lib/python3.<version>/site-packages')\n",
    "import simweights"
   ]
  },
  {
   "cell_type": "code",
   "execution_count": 3,
   "metadata": {},
   "outputs": [],
   "source": [
    "p_list = glob.glob('/data/ana/CosmicRay/IceTop_level3/sim/IC86.2015/SIBYLL2.1/p/20174_v1s/h5files/*.h5')\n",
    "he_list = glob.glob('/data/ana/CosmicRay/IceTop_level3/sim/IC86.2015/SIBYLL2.1/He/20178_v1s/h5files/*.h5')\n",
    "o_list = glob.glob('/data/ana/CosmicRay/IceTop_level3/sim/IC86.2015/SIBYLL2.1/O/20179_v1s/h5files/*.h5')\n",
    "fe_list = glob.glob('/data/ana/CosmicRay/IceTop_level3/sim/IC86.2015/SIBYLL2.1/Fe/20180_v1s/h5files/*.h5')\n",
    "\n",
    "bigfilelist = p_list + he_list + o_list + fe_list"
   ]
  },
  {
   "cell_type": "code",
   "execution_count": null,
   "metadata": {},
   "outputs": [],
   "source": [
    "weighter = None\n",
    "print('Getting weights...')\n",
    "    \n",
    "for filename in bigfilelist:\n",
    "    file_obj = tables.open_file(filename, 'r')\n",
    "    \n",
    "    if weighter is None:\n",
    "        weighter = simweights.IceTopWeighter(file_obj)\n",
    "    else:\n",
    "        weighter += simweights.IceTopWeighter(file_obj)"
   ]
  },
  {
   "cell_type": "code",
   "execution_count": 5,
   "metadata": {},
   "outputs": [],
   "source": [
    "PICKLING_FILES = {\n",
    "    #Energy, type\n",
    "    'energy': weighter.get_column('MCPrimary', 'energy'),\n",
    "    'particle_type': weighter.get_column('MCPrimary', 'type'),\n",
    "    # Weights\n",
    "    'Hweights': weighter.get_weights(simweights.GaisserH4a_IT()),\n",
    "    'Gweights': weighter.get_weights(simweights.GlobalSplineFit_IT()),\n",
    "    # Cuts\n",
    "    'hits': weighter.get_column('IceTopHLCSeedRTPulses_SnowUnAttenuated_info', 'nstrings'),\n",
    "    'max_inside': weighter.get_column('IT73AnalysisIceTopQualityCuts', 'IceTopMaxSignalInside')==1,\n",
    "    'runs': weighter.get_column('IT73AnalysisIceTopQualityCuts', 'Run'),\n",
    "    'event': weighter.get_column('IT73AnalysisIceTopQualityCuts', 'Event'),\n",
    "    'sub_event': weighter.get_column('IT73AnalysisIceTopQualityCuts', 'SubEvent'),\n",
    "    'sub_event_stream': weighter.get_column('IT73AnalysisIceTopQualityCuts', 'SubEventStream'),\n",
    "    'beta_cut_pass': weighter.get_column('IT73AnalysisIceTopQualityCuts', 'BetaCutPassed'),\n",
    "    'max_signal_6': weighter.get_column('IT73AnalysisIceTopQualityCuts', 'IceTopMaxSignalAbove6'),\n",
    "    'neighbour_max_signal_4': weighter.get_column('IT73AnalysisIceTopQualityCuts', 'IceTopNeighbourMaxSignalAbove4'),\n",
    "    'standard_filter': weighter.get_column('IT73AnalysisIceTopQualityCuts', 'IceTop_StandardFilter'),\n",
    "    'reco_pass': weighter.get_column('IT73AnalysisIceTopQualityCuts', 'IceTop_reco_succeeded'),\n",
    "    'laputop_frac': weighter.get_column('IT73AnalysisIceTopQualityCuts', 'Laputop_FractionContainment'),\n",
    "    'station_density_pass': weighter.get_column('IT73AnalysisIceTopQualityCuts', 'StationDensity_passed')\n",
    "}"
   ]
  },
  {
   "cell_type": "code",
   "execution_count": null,
   "metadata": {},
   "outputs": [
    {
     "ename": "",
     "evalue": "",
     "output_type": "error",
     "traceback": [
      "\u001b[1;31mThe Kernel crashed while executing code in the current cell or a previous cell. \n",
      "\u001b[1;31mPlease review the code in the cell(s) to identify a possible cause of the failure. \n",
      "\u001b[1;31mClick <a href='https://aka.ms/vscodeJupyterKernelCrash'>here</a> for more info. \n",
      "\u001b[1;31mView Jupyter <a href='command:jupyter.viewOutput'>log</a> for further details."
     ]
    }
   ],
   "source": [
    "for key, array in PICKLING_FILES.items():\n",
    "    if not os.path.isfile(f'pickles/{key}.pkl'):\n",
    "        print(f'Pickling {key}...')\n",
    "        with open(f'pickles/{key}.pkl', 'wb') as f:\n",
    "            pickle.dump(array, f)\n",
    "\n",
    "print('Finished!')"
   ]
  }
 ],
 "metadata": {
  "kernelspec": {
   "display_name": "py3-v4.3.0: v1.12.1",
   "language": "shell",
   "name": "py3-v4.3.0_v1.12.1"
  },
  "language_info": {
   "codemirror_mode": {
    "name": "ipython",
    "version": 3
   },
   "file_extension": ".py",
   "mimetype": "text/x-python",
   "name": "python",
   "nbconvert_exporter": "python",
   "pygments_lexer": "ipython3",
   "version": "3.11.3"
  }
 },
 "nbformat": 4,
 "nbformat_minor": 2
}
