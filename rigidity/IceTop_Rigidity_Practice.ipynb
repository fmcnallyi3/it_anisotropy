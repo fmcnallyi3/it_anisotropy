{
 "cells": [
  {
   "cell_type": "code",
   "execution_count": 14,
   "id": "f95d6387-9e82-450d-b01c-a4b21aa9b10a",
   "metadata": {},
   "outputs": [],
   "source": [
    "# import libraries\n",
    "import os, sys, glob\n",
    "import numpy as np\n",
    "import matplotlib.pyplot as plt\n",
    "import tables\n",
    "# pip install simweights <--- run this once to install the package\n",
    "# then replace <username> with your username and <version> with your Python version\n",
    "sys.path.append('/home/<username>/.local/lib/python3.<version>/site-packages')\n",
    "import simweights"
   ]
  },
  {
   "cell_type": "code",
   "execution_count": 25,
   "id": "b81daa7d-0bfd-48d0-96da-917488f9a510",
   "metadata": {},
   "outputs": [],
   "source": [
    "# Load in half the SIBYLL2.1 particle sims (The kernel might crash otherwise)\n",
    "proton_filelist = glob.glob(\"/data/ana/CosmicRay/IceTop_level3/sim/IC86.2012/SIBYLL2.1/p/12360_v1s/h5files/*.h5\")\n",
    "helium_filelist = glob.glob('/data/ana/CosmicRay/IceTop_level3/sim/IC86.2012/SIBYLL2.1/He/12630_v1s/h5files/*.h5')\n",
    "\n",
    "bigfilelist = proton_filelist + helium_filelist"
   ]
  },
  {
   "cell_type": "code",
   "execution_count": 26,
   "id": "2ef9a550-248f-405e-bfa1-1ea3b388b0ad",
   "metadata": {},
   "outputs": [],
   "source": [
    "# Load in the other hlaf of SIBYLL2.1 particle sims\n",
    "oxygen_filelist = glob.glob('/data/ana/CosmicRay/IceTop_level3/sim/IC86.2012/SIBYLL2.1/O/12631_v1s/h5files/*.h5')\n",
    "iron_filelist = glob.glob(\"/data/ana/CosmicRay/IceTop_level3/sim/IC86.2012/SIBYLL2.1/Fe/12362_v1s/h5files/*.h5\")\n",
    "\n",
    "bigfilelist += oxygen_filelist + iron_filelist"
   ]
  },
  {
   "cell_type": "code",
   "execution_count": 27,
   "id": "47ef920b-d312-4295-bbf1-a32692de4ce5",
   "metadata": {},
   "outputs": [],
   "source": [
    "# Set the weighter for the data\n",
    "weighter = None\n",
    "for filename in bigfilelist:\n",
    "    file_obj = tables.open_file(filename, \"r\")\n",
    "    if weighter is None:\n",
    "        weighter = simweights.IceTopWeighter(file_obj)\n",
    "    else:\n",
    "        weighter += simweights.IceTopWeighter(file_obj)"
   ]
  },
  {
   "cell_type": "code",
   "execution_count": 28,
   "id": "e09aa1d1-bfad-410c-9094-23e0d80f00cf",
   "metadata": {},
   "outputs": [],
   "source": [
    "primary_energy = weighter.get_column(\"MCPrimary\", \"energy\")\n",
    "# (p, He, N, Al, Fe) version of this model.\n",
    "fluxH = simweights.GaisserH4a_IT()\n",
    "\n",
    "# Get the weights by passing the flux to the weighter\n",
    "weights = weighter.get_weights(fluxH)\n",
    "\n",
    "type = weighter.get_column('MCPrimary', 'type')"
   ]
  },
  {
   "cell_type": "code",
   "execution_count": 29,
   "id": "38d6a19c-b653-4e46-875d-7b9a91ab0c3d",
   "metadata": {},
   "outputs": [],
   "source": [
    "# Dictionary for weight data (practice in using dictionaries)\n",
    "CUTS = {\n",
    "    'proton': weighter.get_column(\"MCPrimary\", \"type\")==2.21200000e+03,\n",
    "    'helium' : weighter.get_column(\"MCPrimary\", \"type\")==1.00002004e+09,\n",
    "    'oxygen': weighter.get_column(\"MCPrimary\", \"type\")==1.00008016e+09,\n",
    "    'iron': weighter.get_column(\"MCPrimary\", \"type\")==1.00026056e+09,\n",
    "    'true': np.tile(True, len(primary_energy))\n",
    "}\n",
    "#FRAC = {\n",
    "#   'true': 1,\n",
    "#    'proton': np.log10(primary_energy[CUTS['proton']]) / primary_energy,\n",
    "#    'helium': np.log10(primary_energy[CUTS['helium']]) / primary_energy,\n",
    "#    'oxygen': np.log10(primary_energy[CUTS['oxygen']]) / primary_energy,\n",
    "#    'iron': np.log10(primary_energy[CUTS['iron']]) /primary_energy\n",
    "#}\n",
    "Z = {\n",
    "    'true': 0,\n",
    "    'proton': 1,\n",
    "    'helium': 2,\n",
    "    'oxygen': 8,\n",
    "    'iron': 26  \n",
    "}\n",
    "COLORS={\n",
    "    'true' : 'black',\n",
    "    'proton': 'red',\n",
    "    'helium': 'orange',\n",
    "    'oxygen': 'green',\n",
    "    'iron': 'blue'\n",
    "}\n",
    "LABEL={\n",
    "    'true' : 'Data',\n",
    "    'proton': 'P',\n",
    "    'helium': 'He',\n",
    "    'oxygen': 'O',\n",
    "    'iron': 'Fe'\n",
    "}"
   ]
  },
  {
   "cell_type": "code",
   "execution_count": null,
   "id": "6fec66bc-6745-4a85-8dcf-7bd93feb146d",
   "metadata": {},
   "outputs": [],
   "source": [
    "# Graph Log10 Energy vs Log 10 weighted counts\n",
    "\n",
    "# Practice with dictionary\n",
    "#fig, axs = plt.subplots(figsize=(13 * ncols, 8), ncols=ncols)\n",
    "#for cut in CUTS:\n",
    "#    axs.hist(np.log10(primary_energy)[CUTS[cut]], weights=weights[CUTS[cut]], label = LABEL[cut] ,**hist_args, color=COLORS[cut])\n",
    "#    axs.set_xlabel('Energy')\n",
    "#    axs.set_ylabel('Counts')\n",
    "#plt.legend()\n",
    "\n",
    "# Without dictionary\n",
    "prot_cut = weighter.get_column('MCPrimary', 'type') == 2.21200000e+03\n",
    "eli_cut = weighter.get_column('MCPrimary', 'type') == 1.00002004e+09\n",
    "oxy_cut = weighter.get_column('MCPrimary', 'type') == 1.00008016e+09\n",
    "iron_cut = weighter.get_column('MCPrimary', 'type') == 1.00026056e+09\n",
    "\n",
    "(pwt, bins, patches1) = plt.hist(np.log10(primary_energy[prot_cut]),bins = 100, log = True, weights=weights[prot_cut], color = 'red',histtype = 'step', label ='P')\n",
    "(hwt, bins, patches1) = plt.hist(np.log10(primary_energy[eli_cut]), bins = 100, log = True, weights=weights[eli_cut], color = 'orange',histtype = 'step', label = 'He') \n",
    "(owt, bins, patches1) = plt.hist(np.log10(primary_energy[oxy_cut]), bins = 100, log = True, weights=weights[oxy_cut], color = 'green', histtype = 'step', label = 'O')\n",
    "(iwt, bins, patches1) = plt.hist(np.log10(primary_energy[iron_cut]), bins=100, log=True, weights=weights[iron_cut], color='blue',histtype='step',label='Fe')\n",
    "tot = pwt + hwt + owt + iwt\n",
    "plt.hist(np.log10(primary_energy), bins = 100, log = True, weights=weights ,color = 'black', histtype = 'step', label = 'total')\n",
    "\n",
    "plt.xlabel('log10(energy/GeV)')\n",
    "plt.ylabel('counts')\n",
    "plt.legend()\n"
   ]
  },
  {
   "cell_type": "code",
   "execution_count": null,
   "id": "4fb5611d-f514-47c3-9592-6cd00b291db3",
   "metadata": {},
   "outputs": [],
   "source": [
    "# attempts with dictionary\n",
    "#tot = primary_energy[CUTS['true']]\n",
    "#tot = primary_energy[CUTS['proton']] + primary_energy[CUTS['helium']] + primary_energy[CUTS['oxygen']] + primary_energy[CUTS['iron']]\n",
    "\n",
    "#attempts without dictionary\n",
    "\n",
    "pfrac= pwt / tot\n",
    "hfrac = hwt / tot\n",
    "ofrac = owt / tot\n",
    "ifrac = iwt / tot\n",
    "plt.plot(bins[:-1], pfrac, label = 'P')\n",
    "plt.plot(bins[:-1], hfrac, label = 'He')\n",
    "plt.plot(bins[:-1], ofrac, label = 'O')\n",
    "plt.plot(bins[:-1], ifrac, label = 'Fe')\n",
    "\n",
    "plt.xlabel('log10(Energy/GeV)')\n",
    "plt.ylabel('Fraction of Particles')\n",
    "plt.title('Particle Fraction vs. Energy')\n",
    "\n",
    "plt.legend()"
   ]
  },
  {
   "cell_type": "code",
   "execution_count": null,
   "id": "55c674cf-fe2c-445f-843f-4fad0cf63666",
   "metadata": {},
   "outputs": [],
   "source": [
    "# Mean Atomic Charge (without dictionary)\n",
    "\n",
    "PZ = pwt * np.log10(1)\n",
    "HeZ = hwt * np.log10(2)\n",
    "OZ = owt * np.log10(8)\n",
    "FeZ = iwt * np.log10(26)\n",
    "totZ = PZ + HeZ + OZ + FeZ\n",
    "meanZ = totZ / tot\n",
    "plt.plot(bins[:-1], meanZ, label = 'Mean Z')\n",
    "plt.xlabel('log10(Energy/GeV)')\n",
    "plt.ylabel('Mean log10(Z)')\n",
    "plt.title('Mean logZ vs. Energy')\n",
    "plt.legend()"
   ]
  },
  {
   "cell_type": "code",
   "execution_count": null,
   "id": "25a08d93-39a4-48a9-a338-c765df1e587b",
   "metadata": {},
   "outputs": [],
   "source": [
    "# make a table of the overall percentage of particles\n",
    "\n",
    "pro_cent = len(primary_energy[CUTS['proton']])/len(primary_energy)\n",
    "eli_cent = len(primary_energy[CUTS['helium']])/len(primary_energy)\n",
    "oxy_cent = len(primary_energy[CUTS['oxygen']])/len(primary_energy)\n",
    "iro_cent = len(primary_energy[CUTS['iron']])/len(primary_energy)\n",
    "\n",
    "cent_table = [['proton', round(pro_cent, 3)], \n",
    "              ['helium', round(eli_cent, 3)],\n",
    "              ['oxygen', round(oxy_cent, 3)],\n",
    "              ['iron', round(iro_cent, 3)]]\n",
    "\n",
    "for row in cent_table:\n",
    "    print(row)"
   ]
  },
  {
   "cell_type": "code",
   "execution_count": null,
   "id": "740607d0-f921-4c74-b7e8-3d140f0c0c3f",
   "metadata": {},
   "outputs": [],
   "source": [
    "fluxG = simweights.GlobalSplineFit_IT()\n",
    "\n",
    "print(fluxG.pdgids)\n",
    "print(fluxG.groups)"
   ]
  }
 ],
 "metadata": {
  "kernelspec": {
   "display_name": "py3-v4.3.0: v1.12.1",
   "language": "shell",
   "name": "py3-v4.3.0_v1.12.1"
  },
  "language_info": {
   "codemirror_mode": {
    "name": "ipython",
    "version": 3
   },
   "file_extension": ".py",
   "mimetype": "text/x-python",
   "name": "python",
   "nbconvert_exporter": "python",
   "pygments_lexer": "ipython3",
   "version": "3.11.3"
  }
 },
 "nbformat": 4,
 "nbformat_minor": 5
}
