{
 "cells": [
  {
   "cell_type": "code",
   "execution_count": 1,
   "metadata": {
    "vscode": {
     "languageId": "plaintext"
    }
   },
   "outputs": [],
   "source": [
    "import os, sys, glob, pickle, tables\n",
    "\n",
    "import numpy as np\n",
    "# pip install simweights <--- run this once to install the package\n",
    "# then replace <username> with your username and <version> with your Python version\n",
    "sys.path.append('/home/tfutrell/.local/lib/python3.12/site-packages')\n",
    "import simweights"
   ]
  },
  {
   "cell_type": "code",
   "execution_count": 2,
   "metadata": {
    "vscode": {
     "languageId": "plaintext"
    }
   },
   "outputs": [
    {
     "name": "stdout",
     "output_type": "stream",
     "text": [
      "Getting weights...\n"
     ]
    }
   ],
   "source": [
    "\n",
    "\n",
    "p_list = glob.glob('/data/ana/CosmicRay/IceTop_level3/sim/IC86.2012/SIBYLL2.1/p/12360_v1s/h5files/*.h5')\n",
    "he_list = glob.glob('/data/ana/CosmicRay/IceTop_level3/sim/IC86.2012/SIBYLL2.1/He/12630_v1s/h5files/*.h5')\n",
    "o_list = glob.glob('/data/ana/CosmicRay/IceTop_level3/sim/IC86.2012/SIBYLL2.1/O/12631_v1s/h5files/*.h5')\n",
    "fe_list = glob.glob('/data/ana/CosmicRay/IceTop_level3/sim/IC86.2012/SIBYLL2.1/Fe/12362_v1s/h5files/*.h5')\n",
    "\n",
    "bigfilelist = p_list + he_list + o_list + fe_list\n",
    "\n",
    "weighter = None\n",
    "print('Getting weights...')\n",
    "    \n",
    "for filename in bigfilelist:\n",
    "    file_obj = tables.open_file(filename, 'r')\n",
    "    \n",
    "    if weighter is None:\n",
    "        weighter = simweights.IceTopWeighter(file_obj)\n",
    "    else:\n",
    "        weighter += simweights.IceTopWeighter(file_obj)\n",
    "        \n",
    "PICKLING_FILES = {\n",
    "    'energy': weighter.get_column('MCPrimary', 'energy'),\n",
    "    'type': weighter.get_column('MCPrimary', 'type'),\n",
    "    'hits': weighter.get_column('IceTopHLCSeedRTPulses_SnowUnAttenuated_info', 'nstrings'),\n",
    "    'weights': weighter.get_weights(simweights.GaisserH4a_IT())\n",
    "}\n",
    "\n",
    "for key, array in PICKLING_FILES.items():\n",
    "    with open(f'pickles/{key}.pkl', 'wb') as f:\n",
    "        pickle.dump(array, f)"
   ]
  }
 ],
 "metadata": {
  "kernelspec": {
   "display_name": "py3-v4.3.0: v1.12.1",
   "language": "shell",
   "name": "py3-v4.3.0_v1.12.1"
  },
  "language_info": {
   "codemirror_mode": {
    "name": "ipython",
    "version": 3
   },
   "file_extension": ".py",
   "mimetype": "text/x-python",
   "name": "python",
   "nbconvert_exporter": "python",
   "pygments_lexer": "ipython3",
   "version": "3.11.3"
  }
 },
 "nbformat": 4,
 "nbformat_minor": 2
}
