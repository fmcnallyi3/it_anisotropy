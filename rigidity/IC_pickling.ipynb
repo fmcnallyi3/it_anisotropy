{
 "cells": [
  {
   "cell_type": "code",
   "execution_count": 2,
   "metadata": {
    "vscode": {
     "languageId": "plaintext"
    }
   },
   "outputs": [],
   "source": [
    "import os, sys, glob, pickle, tables\n",
    "\n",
    "import numpy as np\n",
    "# pip install simweights <--- run this once to install the package\n",
    "# then replace <username> with your username and <version> with your Python version\n",
    "sys.path.append('/home/ahinners/.local/lib/python3.11/site-packages')\n",
    "import simweights"
   ]
  },
  {
   "cell_type": "code",
   "execution_count": 3,
   "metadata": {},
   "outputs": [],
   "source": [
    "# Load in IceCube CORSIKA Simulations\n",
    "bigfilelist = '/data/sim/IceCube/2020/filtered/dst/CORSIKA-in-ice/20904'\n",
    "corsika_fl = sorted(glob.glob(f'{bigfilelist}/*/*i3*'))\n",
    "#0000000-0000999\n",
    "corsika_fl = corsika_fl[:50]"
   ]
  },
  {
   "cell_type": "code",
   "execution_count": 4,
   "metadata": {},
   "outputs": [],
   "source": [
    "weight_keys = [\n",
    "    \"CylinderLength\",\n",
    "    \"CylinderRadius\",\n",
    "    \"EnergyPrimaryMax\",\n",
    "    \"EnergyPrimaryMin\",\n",
    "    \"NEvents\",\n",
    "    \"OverSampling\",\n",
    "    \"ParticleType\",\n",
    "    \"PrimaryEnergy\",\n",
    "    \"PrimarySpectralIndex\",\n",
    "    \"PrimaryType\",\n",
    "    \"ThetaMax\",\n",
    "    \"ThetaMin\",\n",
    "    \"Weight\",\n",
    "]\n",
    "\n",
    "particle_keys = [\"type\", \"energy\", \"zenith\"]\n",
    "\n",
    "CorsikaWeightMap: dict = {k: [] for k in weight_keys}\n",
    "PolyplopiaPrimary: dict = {k: [] for k in particle_keys}\n",
    "MCtype_corsika = np.array([])\n",
    "MCenergy_corsika = np.array([])"
   ]
  },
  {
   "cell_type": "code",
   "execution_count": null,
   "metadata": {},
   "outputs": [],
   "source": [
    "for f in corsika_fl:\n",
    "    #print(\"Reading\", f)\n",
    "    infile_corsika = dataio.I3File(f)\n",
    "    while infile_corsika.more():\n",
    "        frame = infile_corsika.pop_physics()\n",
    "        \n",
    "        # Frame may contain coincident events so select injected primary shower 'PolyplopiaPrimary'\n",
    "        MCtype_corsika = np.append(MCtype_corsika, frame[\"PolyplopiaPrimary\"].type)\n",
    "        MCenergy_corsika = np.append(MCenergy_corsika, frame[\"PolyplopiaPrimary\"].energy)\n",
    "\n",
    "        for k in weight_keys:\n",
    "            CorsikaWeightMap[k].append(frame[\"CorsikaWeightMap\"][k])\n",
    "\n",
    "        PolyplopiaPrimary[\"zenith\"].append(frame[\"PolyplopiaPrimary\"].dir.zenith)\n",
    "        PolyplopiaPrimary[\"type\"].append(frame[\"PolyplopiaPrimary\"].type)\n",
    "        PolyplopiaPrimary[\"energy\"].append(frame[\"PolyplopiaPrimary\"].energy)"
   ]
  },
  {
   "cell_type": "code",
   "execution_count": null,
   "metadata": {},
   "outputs": [],
   "source": [
    "# Set the weighter for the data\n",
    "fobj = {\"CorsikaWeightMap\": CorsikaWeightMap, \"PolyplopiaPrimary\": PolyplopiaPrimary, \"DST_Cuts\": DST_Cuts}\n",
    "wobj = simweights.CorsikaWeighter(fobj, nfiles=len(corsika_fl))"
   ]
  },
  {
   "cell_type": "code",
   "execution_count": null,
   "metadata": {
    "vscode": {
     "languageId": "plaintext"
    }
   },
   "outputs": [],
   "source": [
    "PICKLING_FILES = {\n",
    "    'energy': weighter.get_column('PolyplopiaPrimary', 'energy'),\n",
    "    'type': weighter.get_column('PolyplopiaPrimary', 'type'),\n",
    "    'zenith': weighter.get_column('PolyplopiaPrimary', 'zenith'),\n",
    "    'Nevents': weighter.get_column('weight_keys', 'NEvents'),\n",
    "    'fluxH4a': wobj.get_weights(simweights.GaisserH4a())\n",
    "    'fluxGSF': wobj.get_weights(simweights.GlobalSplineFit())\n",
    "}\n",
    "\n",
    "for key, array in PICKLING_FILES.items():\n",
    "    with open(f'pickles/{key}.pkl', 'wb') as f:\n",
    "        pickle.dump(array, f)"
   ]
  }
 ],
 "metadata": {
  "kernelspec": {
   "display_name": "py3-v4.3.0: v1.12.1",
   "language": "shell",
   "name": "py3-v4.3.0_v1.12.1"
  },
  "language_info": {
   "codemirror_mode": {
    "name": "ipython",
    "version": 3
   },
   "file_extension": ".py",
   "mimetype": "text/x-python",
   "name": "python",
   "nbconvert_exporter": "python",
   "pygments_lexer": "ipython3",
   "version": "3.11.3"
  }
 },
 "nbformat": 4,
 "nbformat_minor": 4
}
