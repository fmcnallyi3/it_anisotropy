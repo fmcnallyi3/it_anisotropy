{
 "cells": [
  {
   "cell_type": "code",
   "execution_count": 1,
   "id": "fe30bf5e-9e34-4d7c-9a63-6fa8b69cec3a",
   "metadata": {},
   "outputs": [
    {
     "ename": "ModuleNotFoundError",
     "evalue": "No module named 'numpy'",
     "output_type": "error",
     "traceback": [
      "\u001b[0;31m---------------------------------------------------------------------------\u001b[0m",
      "\u001b[0;31mModuleNotFoundError\u001b[0m                       Traceback (most recent call last)",
      "Cell \u001b[0;32mIn[1], line 2\u001b[0m\n\u001b[1;32m      1\u001b[0m \u001b[38;5;28;01mimport\u001b[39;00m\u001b[38;5;250m \u001b[39m\u001b[38;5;21;01mpathlib\u001b[39;00m\n\u001b[0;32m----> 2\u001b[0m \u001b[38;5;28;01mimport\u001b[39;00m\u001b[38;5;250m \u001b[39m\u001b[38;5;21;01mnumpy\u001b[39;00m\n\u001b[1;32m      3\u001b[0m \u001b[38;5;28;01mimport\u001b[39;00m\u001b[38;5;250m \u001b[39m\u001b[38;5;21;01mh5py\u001b[39;00m\n\u001b[1;32m      4\u001b[0m \u001b[38;5;28;01mimport\u001b[39;00m\u001b[38;5;250m \u001b[39m\u001b[38;5;21;01mtables\u001b[39;00m\n",
      "\u001b[0;31mModuleNotFoundError\u001b[0m: No module named 'numpy'"
     ]
    }
   ],
   "source": [
    "import pathlib\n",
    "import numpy\n",
    "import h5py\n",
    "import tables\n",
    "\n",
    "from glob import glob\n",
    "sys.path.append('/home/ahinners/.local/lib/python3.11/site-packages') \n",
    "import simweights"
   ]
  },
  {
   "cell_type": "code",
   "execution_count": null,
   "id": "17b52bf2-5f86-4457-8032-34790f7f611a",
   "metadata": {},
   "outputs": [],
   "source": [
    "# Collect simulation files\n",
    "prefix = '/data/user/rchapagain/cra_analysis/sim_2012_simweights'\n",
    "files = sorted(glob(f'{prefix}/*.hdf5'))"
   ]
  },
  {
   "cell_type": "code",
   "execution_count": null,
   "id": "47f7962c-cebc-4bff-a1dd-a61c97c9f260",
   "metadata": {},
   "outputs": [],
   "source": [
    "f = '/data/ana/CosmicRay/Anisotropy/IceTop/ITpass2/output/outputg/sim_try'"
   ]
  },
  {
   "cell_type": "code",
   "execution_count": null,
   "id": "e9932b89-c460-41bb-a15c-42d1b4f9cbbb",
   "metadata": {},
   "outputs": [],
   "source": [
    "# Read file\n",
    "print('Reading n_stations from file...')\n",
    "with h5py.File(my_file, 'r') as f:\n",
    "    n_stations = np.array(f['NStations']['value'])"
   ]
  }
 ],
 "metadata": {
  "kernelspec": {
   "display_name": "Python 3 (ipykernel)",
   "language": "python",
   "name": "python3"
  },
  "language_info": {
   "codemirror_mode": {
    "name": "ipython",
    "version": 3
   },
   "file_extension": ".py",
   "mimetype": "text/x-python",
   "name": "python",
   "nbconvert_exporter": "python",
   "pygments_lexer": "ipython3",
   "version": "3.12.8"
  }
 },
 "nbformat": 4,
 "nbformat_minor": 5
}
