{
 "cells": [
  {
   "cell_type": "code",
   "execution_count": 3,
   "id": "fe30bf5e-9e34-4d7c-9a63-6fa8b69cec3a",
   "metadata": {},
   "outputs": [],
   "source": [
    "import numpy as np\n",
    "import h5py\n",
    "import tables\n",
    "\n",
    "from glob import glob\n",
    "#import simweights"
   ]
  },
  {
   "cell_type": "code",
   "execution_count": 6,
   "id": "17b52bf2-5f86-4457-8032-34790f7f611a",
   "metadata": {},
   "outputs": [
    {
     "name": "stdout",
     "output_type": "stream",
     "text": [
      "['/data/user/rchapagain/cra_analysis/sim_2012_simweights/l3_12360.hdf5', '/data/user/rchapagain/cra_analysis/sim_2012_simweights/l3_12362.hdf5', '/data/user/rchapagain/cra_analysis/sim_2012_simweights/l3_12630.hdf5', '/data/user/rchapagain/cra_analysis/sim_2012_simweights/l3_12631.hdf5']\n"
     ]
    }
   ],
   "source": [
    "# Collect simulation files\n",
    "prefix = '/data/user/rchapagain/cra_analysis/sim_2012_simweights'\n",
    "files = sorted(glob(f'{prefix}/*.hdf5'))\n",
    "print(files)"
   ]
  },
  {
   "cell_type": "code",
   "execution_count": null,
   "id": "47f7962c-cebc-4bff-a1dd-a61c97c9f260",
   "metadata": {},
   "outputs": [],
   "source": [
    "f = '/data/ana/CosmicRay/Anisotropy/IceTop/ITpass2/output/outputg/sim_try'"
   ]
  },
  {
   "cell_type": "code",
   "execution_count": null,
   "id": "e9932b89-c460-41bb-a15c-42d1b4f9cbbb",
   "metadata": {},
   "outputs": [],
   "source": [
    "# Read file\n",
    "print('Reading n_stations from file...')\n",
    "with h5py.File(my_file, 'r') as f:\n",
    "    n_stations = np.array(f['NStations']['value'])"
   ]
  }
 ],
 "metadata": {
  "kernelspec": {
   "display_name": "Python 3 (ipykernel)",
   "language": "python",
   "name": "python3"
  },
  "language_info": {
   "codemirror_mode": {
    "name": "ipython",
    "version": 3
   },
   "file_extension": ".py",
   "mimetype": "text/x-python",
   "name": "python",
   "nbconvert_exporter": "python",
   "pygments_lexer": "ipython3",
   "version": "3.12.8"
  }
 },
 "nbformat": 4,
 "nbformat_minor": 5
}
