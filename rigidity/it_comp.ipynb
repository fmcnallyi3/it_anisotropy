{
 "cells": [
  {
   "cell_type": "code",
   "execution_count": 18,
   "id": "fe30bf5e-9e34-4d7c-9a63-6fa8b69cec3a",
   "metadata": {
    "vscode": {
     "languageId": "python"
    }
   },
   "outputs": [],
   "source": [
    "import pathlib\n",
    "import numpy as np\n",
    "import h5py\n",
    "import tables\n",
    "import sys\n",
    "\n",
    "from glob import glob\n",
    "# pip install simweights <--- run this once to install the package\n",
    "# then replace <username> with your username and <version> with your Python version\n",
    "sys.path.append('/home/<username?/.local/lib/python3.<version>/site-packages')\n",
    "import simweights"
   ]
  },
  {
   "cell_type": "code",
   "execution_count": 23,
   "id": "d7da5acc",
   "metadata": {
    "vscode": {
     "languageId": "python"
    }
   },
   "outputs": [],
   "source": [
    "flux = simweights.GaisserH4a_IT()"
   ]
  },
  {
   "cell_type": "code",
   "execution_count": 19,
   "id": "17b52bf2-5f86-4457-8032-34790f7f611a",
   "metadata": {
    "vscode": {
     "languageId": "python"
    }
   },
   "outputs": [],
   "source": [
    "# Collect simulation files\n",
    "prefix = '/data/user/rchapagain/cra_analysis/sim_2012_simweights'\n",
    "files = sorted(glob(f'{prefix}/*.hdf5'))\n",
    "my_file = files[0]"
   ]
  },
  {
   "cell_type": "code",
   "execution_count": 20,
   "id": "47f7962c-cebc-4bff-a1dd-a61c97c9f260",
   "metadata": {
    "vscode": {
     "languageId": "python"
    }
   },
   "outputs": [],
   "source": [
    "f = '/data/ana/CosmicRay/Anisotropy/IceTop/ITpass2/output/outputg/sim_try'"
   ]
  },
  {
   "cell_type": "code",
   "execution_count": 21,
   "id": "e9932b89-c460-41bb-a15c-42d1b4f9cbbb",
   "metadata": {
    "vscode": {
     "languageId": "python"
    }
   },
   "outputs": [
    {
     "name": "stdout",
     "output_type": "stream",
     "text": [
      "Reading n_stations from file...\n"
     ]
    }
   ],
   "source": [
    "# Read file\n",
    "print('Reading n_stations from file...')\n",
    "with h5py.File(my_file, 'r') as f:\n",
    "    n_stations = np.array(f['NStations']['value'])"
   ]
  },
  {
   "cell_type": "code",
   "execution_count": 24,
   "id": "ca480985",
   "metadata": {
    "vscode": {
     "languageId": "python"
    }
   },
   "outputs": [],
   "source": [
    "with tables.open_file(my_file, 'r') as f:\n",
    "    weighter = simweights.IceTopWeighter(f)\n",
    "    weights = weighter.get_weights(flux)\n",
    "weights[np.isinf(weights)] = 0\n",
    "weights[np.isnan(weights)] = 0"
   ]
  },
  {
   "cell_type": "code",
   "execution_count": 25,
   "id": "1cc3d8b0",
   "metadata": {
    "vscode": {
     "languageId": "python"
    }
   },
   "outputs": [
    {
     "name": "stdout",
     "output_type": "stream",
     "text": [
      "[4 3 3 3 3 3 3 4 3 4 3 3 4 3 3 3 3 3 3 3 3 3 3 3 3 3 3 4 3 3 3 3 3 4 3 0 3\n",
      " 3 4 3 3 3 3 3 4 4 3 3 3 3 3 3 3 3 3 3 3 3 3 3 3 3 3 3 4 3 3 3 3 3 3 3 3 3\n",
      " 3 3 3 3 3 4 3 3 3 4 3 3 3 3 3 3 3 3 3 3 4 3 3 3 3 3]\n",
      "[0.00062489 0.00051729 0.00051729 0.00051729 0.00051729 0.00065385\n",
      " 0.00065385 0.00065385 0.00065385 0.00065385 0.00054131 0.00054131\n",
      " 0.00061023 0.00061023 0.00052999 0.00052999 0.00061055 0.00052963\n",
      " 0.00052963 0.00052963 0.0006763  0.00066264 0.00066264 0.00063388\n",
      " 0.00071155 0.00058565 0.00058565 0.00072399 0.00072399 0.00055629\n",
      " 0.00055629 0.00055629 0.00054404 0.00054743 0.0007401  0.0007401\n",
      " 0.0007401  0.00056961 0.00057434 0.00073152 0.00073152 0.00065565\n",
      " 0.00063978 0.00072216 0.00070907 0.00060237 0.00066573 0.00056001\n",
      " 0.00056001 0.00054084 0.00058504 0.0005334  0.00057659 0.00066477\n",
      " 0.0006425  0.00070411 0.00070411 0.00074958 0.00074958 0.00073551\n",
      " 0.0005762  0.00065404 0.00059883 0.00070364 0.00070364 0.00067909\n",
      " 0.00067909 0.00051996 0.00051996 0.00063558 0.00063558 0.00063558\n",
      " 0.00063558 0.00062829 0.00062829 0.00058708 0.00058708 0.00052163\n",
      " 0.00052163 0.00052163 0.00075811 0.00053611 0.00053611 0.00063076\n",
      " 0.00063076 0.0006133  0.00057015 0.00070322 0.00074165 0.00058959\n",
      " 0.00069987 0.00054038 0.0005181  0.00061074 0.00053755 0.00060761\n",
      " 0.0005197  0.00063295 0.00066664 0.00065073]\n"
     ]
    }
   ],
   "source": [
    "print(n_stations[:100])\n",
    "print(weights[:100])"
   ]
  }
 ],
 "metadata": {
  "kernelspec": {
   "display_name": "py3-v4.3.0: v1.12.1",
   "language": "shell",
   "name": "py3-v4.3.0_v1.12.1"
  },
  "language_info": {
   "codemirror_mode": {
    "name": "ipython",
    "version": 3
   },
   "file_extension": ".py",
   "mimetype": "text/x-python",
   "name": "python",
   "nbconvert_exporter": "python",
   "pygments_lexer": "ipython3",
   "version": "3.11.3"
  }
 },
 "nbformat": 4,
 "nbformat_minor": 5
}
