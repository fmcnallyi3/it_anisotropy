{
 "cells": [
  {
   "cell_type": "code",
   "execution_count": 1,
   "id": "f95d6387-9e82-450d-b01c-a4b21aa9b10a",
   "metadata": {
    "vscode": {
     "languageId": "python"
    }
   },
   "outputs": [],
   "source": [
    "# import libraries\n",
    "import os, sys, glob\n",
    "\n",
    "import numpy as np\n",
    "import matplotlib.pyplot as plt\n",
    "\n",
    "import tables\n",
    "\n",
    "# pip install simweights <--- run this once to install the package\n",
    "# then replace <username> with your username and <version> with your Python version\n",
    "sys.path.append('/home/<username>/.local/lib/python3.<version>/site-packages')\n",
    "import simweights"
   ]
  },
  {
   "cell_type": "code",
   "execution_count": 2,
   "id": "b81daa7d-0bfd-48d0-96da-917488f9a510",
   "metadata": {
    "vscode": {
     "languageId": "python"
    }
   },
   "outputs": [],
   "source": [
    "# Load in the SIBYLL2.1 particle sims\n",
    "proton_filelist = glob.glob('/data/ana/CosmicRay/IceTop_level3/sim/IC86.2012/SIBYLL2.1/p/12360_v1s/h5files/*.h5')\n",
    "helium_filelist = glob.glob('/data/ana/CosmicRay/IceTop_level3/sim/IC86.2012/SIBYLL2.1/He/12630_v1s/h5files/*.h5')\n",
    "oxygen_filelist = glob.glob('/data/ana/CosmicRay/IceTop_level3/sim/IC86.2012/SIBYLL2.1/O/12631_v1s/h5files/*.h5')\n",
    "iron_filelist = glob.glob('/data/ana/CosmicRay/IceTop_level3/sim/IC86.2012/SIBYLL2.1/Fe/12362_v1s/h5files/*.h5')\n",
    "\n",
    "bigfilelist = proton_filelist + helium_filelist + oxygen_filelist + iron_filelist"
   ]
  },
  {
   "cell_type": "code",
   "execution_count": 3,
   "id": "47ef920b-d312-4295-bbf1-a32692de4ce5",
   "metadata": {
    "editable": true,
    "slideshow": {
     "slide_type": ""
    },
    "tags": [],
    "vscode": {
     "languageId": "python"
    }
   },
   "outputs": [],
   "source": [
    "# Set the weighter for the data\n",
    "weighter = None\n",
    "\n",
    "for filename in bigfilelist:\n",
    "    file_obj = tables.open_file(filename, 'r')\n",
    "    \n",
    "    if weighter is None:\n",
    "        weighter = simweights.IceTopWeighter(file_obj)\n",
    "    else:\n",
    "        weighter += simweights.IceTopWeighter(file_obj)"
   ]
  },
  {
   "cell_type": "code",
   "execution_count": null,
   "id": "e09aa1d1-bfad-410c-9094-23e0d80f00cf",
   "metadata": {
    "editable": true,
    "slideshow": {
     "slide_type": ""
    },
    "tags": [],
    "vscode": {
     "languageId": "python"
    }
   },
   "outputs": [],
   "source": [
    "# probably want to save these to pickle files\n",
    "primary_energy = weighter.get_column('MCPrimary', 'energy')\n",
    "particle_type = weighter.get_column('MCPrimary', 'type')\n",
    "\n",
    "#figure how to get this to work with IceTopHLCSeedRTPulses_SnowUnAttenuated, string\n",
    "hits = weighter.get_column('IceTopHLCSeedRTPulses_SnowUnAttenuated_info', 'nstrings')\n",
    "\n",
    "# (p, He, N, Al, Fe) version of this model.\n",
    "fluxH = simweights.GaisserH4a_IT()\n",
    "\n",
    "# Get the weights by passing the flux to the weighter\n",
    "weights = weighter.get_weights(fluxH)"
   ]
  },
  {
   "cell_type": "code",
   "execution_count": 35,
   "id": "38d6a19c-b653-4e46-875d-7b9a91ab0c3d",
   "metadata": {
    "editable": true,
    "slideshow": {
     "slide_type": ""
    },
    "tags": [],
    "vscode": {
     "languageId": "python"
    }
   },
   "outputs": [],
   "source": [
    "# Dictionary for weight data (practice in using dictionaries)\n",
    "CUTS = {\n",
    "    'proton': particle_type==2.21200000e+03,\n",
    "    'helium' : particle_type==1.00002004e+09,\n",
    "    'oxygen': particle_type==1.00008016e+09,\n",
    "    'iron': particle_type==1.00026056e+09,\n",
    "    'true': np.tile(True, len(primary_energy))\n",
    "}\n",
    "Z = {\n",
    "    'true': 0,\n",
    "    'proton': 1,\n",
    "    'helium': 2,\n",
    "    'oxygen': 8,\n",
    "    'iron': 26  \n",
    "}\n",
    "TIERS = {\n",
    "    'Tier 1': (3<=hits)*(hits<5),\n",
    "    'Tier 2': (5<=hits)*(hits<9),\n",
    "    'Tier 3': (9<=hits)*(hits<16),\n",
    "    'Tier 4': 16<=hits\n",
    "}\n",
    "COLORS = {\n",
    "    'true' : 'black',\n",
    "    'proton': 'red',\n",
    "    'helium': 'orange',\n",
    "    'oxygen': 'green',\n",
    "    'iron': 'blue'\n",
    "}\n",
    "LABEL = {\n",
    "    'true' : 'Data',\n",
    "    'proton': 'P',\n",
    "    'helium': 'He',\n",
    "    'oxygen': 'O',\n",
    "    'iron': 'Fe'\n",
    "}\n",
    "WEIGHTS = {\n",
    "    'true' : {'Tier1': np.empty(len(primary_energy)), 'Tier 2': np.empty(len(primary_energy)), 'Tier 3': np.empty(len(primary_energy)), 'Tier 4': np.empty(len(primary_energy))},\n",
    "    'proton': {'Tier1': np.empty(len(primary_energy)), 'Tier 2': np.empty(len(primary_energy)), 'Tier 3': np.empty(len(primary_energy)), 'Tier 4': np.empty(len(primary_energy))},\n",
    "    'helium': {'Tier1': np.empty(len(primary_energy)), 'Tier 2': np.empty(len(primary_energy)), 'Tier 3': np.empty(len(primary_energy)), 'Tier 4': np.empty(len(primary_energy))},\n",
    "    'oxygen': {'Tier1': np.empty(len(primary_energy)), 'Tier 2': np.empty(len(primary_energy)), 'Tier 3': np.empty(len(primary_energy)), 'Tier 4': np.empty(len(primary_energy))},\n",
    "    'iron': {'Tier1': np.empty(len(primary_energy)), 'Tier 2': np.empty(len(primary_energy)), 'Tier 3': np.empty(len(primary_energy)), 'Tier 4': np.empty(len(primary_energy))}\n",
    "}\n",
    "BINS = {\n",
    "    'true' : {'Tier1': np.empty(len(primary_energy)), 'Tier 2': np.empty(len(primary_energy)), 'Tier 3': np.empty(len(primary_energy)), 'Tier 4': np.empty(len(primary_energy))},\n",
    "    'proton': {'Tier1': np.empty(len(primary_energy)), 'Tier 2': np.empty(len(primary_energy)), 'Tier 3': np.empty(len(primary_energy)), 'Tier 4': np.empty(len(primary_energy))},\n",
    "    'helium': {'Tier1': np.empty(len(primary_energy)), 'Tier 2': np.empty(len(primary_energy)), 'Tier 3': np.empty(len(primary_energy)), 'Tier 4': np.empty(len(primary_energy))},\n",
    "    'oxygen': {'Tier1': np.empty(len(primary_energy)), 'Tier 2': np.empty(len(primary_energy)), 'Tier 3': np.empty(len(primary_energy)), 'Tier 4': np.empty(len(primary_energy))},\n",
    "    'iron': {'Tier1': np.empty(len(primary_energy)), 'Tier 2': np.empty(len(primary_energy)), 'Tier 3': np.empty(len(primary_energy)), 'Tier 4': np.empty(len(primary_energy))}\n",
    "}"
   ]
  },
  {
   "cell_type": "code",
   "execution_count": 7,
   "id": "6fec66bc-6745-4a85-8dcf-7bd93feb146d",
   "metadata": {
    "editable": true,
    "slideshow": {
     "slide_type": ""
    },
    "tags": [],
    "vscode": {
     "languageId": "python"
    }
   },
   "outputs": [],
   "source": [
    "# Graph Log10 Energy vs Log 10 weighted counts\n",
    "\n",
    "fig, axs = plt.subplots(figsize = (52, 8), ncols=4)\n",
    "\n",
    "for ax, tier in zip(axs, TIERS):\n",
    "    for cut in CUTS:\n",
    "        WEIGHTS[cut][tier], BINS[cut][tier], patches1 = ax.hist(np.log10(primary_energy)[CUTS[cut]][TIERS[tier][CUTS[cut]]], bins=50, weights=weights[CUTS[cut]][TIERS[tier][CUTS[cut]]], log=True, label = LABEL[cut], histtype='step', color=COLORS[cut])\n",
    "    \n",
    "    ax.set_xlabel('Energy')\n",
    "    ax.set_ylabel('Counts')\n",
    "    ax.set_title(f'Log10 Energy vs Log 10 Weighted Counts for {tier}')\n",
    "    ax.legend()"
   ]
  },
  {
   "cell_type": "code",
   "execution_count": 8,
   "id": "4fb5611d-f514-47c3-9592-6cd00b291db3",
   "metadata": {
    "editable": true,
    "slideshow": {
     "slide_type": ""
    },
    "tags": [],
    "vscode": {
     "languageId": "python"
    }
   },
   "outputs": [],
   "source": [
    "# Particle Fraction vs. Energy\n",
    "fig, axs = plt.subplots(figsize=(52, 8), ncols=4)\n",
    "\n",
    "for ax, tier in zip(axs, TIERS):\n",
    "    for cut in CUTS:\n",
    "        if not cut=='true':\n",
    "            ax.plot(BINS[cut][tier][:-1], WEIGHTS[cut][tier]/len(primary_energy[TIERS[tier]]), label=LABEL[cut])\n",
    "\n",
    "    ax.set_xlabel('log10(Energy/GeV)')\n",
    "    ax.set_ylabel('Fraction of Particles')\n",
    "    ax.set_title(f'Particle Fraction vs. Energy for {tier}')\n",
    "\n",
    "    ax.legend()"
   ]
  },
  {
   "cell_type": "code",
   "execution_count": 9,
   "id": "55c674cf-fe2c-445f-843f-4fad0cf63666",
   "metadata": {
    "vscode": {
     "languageId": "python"
    }
   },
   "outputs": [],
   "source": [
    "# Mean Atomic Charge\n",
    "\n",
    "fig, axs = plt.subplots(figsize=(52, 8), ncols=4)\n",
    "\n",
    "for tier, ax in zip(TIERS, axs):\n",
    "    totZ = 0\n",
    "    \n",
    "    for cut in CUTS:\n",
    "        if not cut=='true':\n",
    "            totZ += WEIGHTS[cut][tier] * np.log10(Z[cut])\n",
    "\n",
    "    meanZ = totZ / len(primary_energy[TIERS[tier]])\n",
    "\n",
    "    ax.plot(BINS['true'][tier][:-1], meanZ, label = 'Mean Z')\n",
    "\n",
    "    ax.set_xlabel('log10(Energy/GeV)')\n",
    "    ax.set_ylabel('Mean log10(Z)')\n",
    "    ax.set_title(f'Mean logZ vs. Energy for {tier}')\n",
    "\n",
    "    ax.legend()"
   ]
  },
  {
   "cell_type": "code",
   "execution_count": 10,
   "id": "25a08d93-39a4-48a9-a338-c765df1e587b",
   "metadata": {
    "vscode": {
     "languageId": "python"
    }
   },
   "outputs": [],
   "source": [
    "# Make a table of the overall percentage of particles\n",
    "\n",
    "for tier in TIERS:\n",
    "    print(f\"{tier}:\")\n",
    "    print()\n",
    "    for cut in CUTS:\n",
    "        if not cut=='true':\n",
    "            print(f\"[{cut}, {round(len(primary_energy[CUTS[cut]][TIERS[tier][CUTS[cut]]])/len(primary_energy[TIERS[tier]]), 3)}]\")\n",
    "            print()"
   ]
  },
  {
   "cell_type": "code",
   "execution_count": 11,
   "id": "740607d0-f921-4c74-b7e8-3d140f0c0c3f",
   "metadata": {
    "vscode": {
     "languageId": "python"
    }
   },
   "outputs": [],
   "source": [
    "fluxG = simweights.GlobalSplineFit_IT()\n",
    "\n",
    "print(fluxG.pdgids)\n",
    "print(fluxG.groups)"
   ]
  }
 ],
 "metadata": {
  "kernelspec": {
   "display_name": "py3-v4.3.0: v1.12.1",
   "language": "shell",
   "name": "py3-v4.3.0_v1.12.1"
  },
  "language_info": {
   "codemirror_mode": {
    "name": "ipython",
    "version": 3
   },
   "file_extension": ".py",
   "mimetype": "text/x-python",
   "name": "python",
   "nbconvert_exporter": "python",
   "pygments_lexer": "ipython3",
   "version": "3.11.3"
  }
 },
 "nbformat": 4,
 "nbformat_minor": 5
}
