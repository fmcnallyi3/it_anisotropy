{
 "cells": [
  {
   "cell_type": "code",
   "execution_count": 2,
   "id": "f95d6387-9e82-450d-b01c-a4b21aa9b10a",
   "metadata": {},
   "outputs": [],
   "source": [
    "# import libraries\n",
    "import os, sys, glob, pickle, tables\n",
    "\n",
    "import numpy as np\n",
    "import matplotlib.pyplot as plt\n",
    "\n",
    "from pandas import DataFrame\n",
    "\n",
    "# pip install simweights <--- run this once to install the package\n",
    "# then replace <username> with your username and <version> with your Python version\n",
    "sys.path.append('/home/<username>/.local/lib/python3.<version>/site-packages')\n",
    "import simweights"
   ]
  },
  {
   "cell_type": "code",
   "execution_count": 3,
   "id": "673ddfcd",
   "metadata": {},
   "outputs": [],
   "source": [
    "PATHS = ['/data/ana/CosmicRay/IceTop_level3/sim/IC86.2012/SIBYLL2.1/p/12360_v1s/h5files/*.h5',\n",
    "'/data/ana/CosmicRay/IceTop_level3/sim/IC86.2012/SIBYLL2.1/He/12630_v1s/h5files/*.h5',\n",
    "'/data/ana/CosmicRay/IceTop_level3/sim/IC86.2012/SIBYLL2.1/O/12631_v1s/h5files/*.h5',\n",
    "'/data/ana/CosmicRay/IceTop_level3/sim/IC86.2012/SIBYLL2.1/Fe/12362_v1s/h5files/*.h5']"
   ]
  },
  {
   "cell_type": "code",
   "execution_count": 4,
   "id": "82dea77e",
   "metadata": {},
   "outputs": [],
   "source": [
    "def weighting(path):\n",
    "    weighter = None\n",
    "    filelist = glob.glob(path)\n",
    "\n",
    "    for filename in filelist:\n",
    "        file_obj = tables.open_file(filename, 'r')\n",
    "    \n",
    "        if weighter is None:\n",
    "            weighter = simweights.IceTopWeighter(file_obj)\n",
    "        else:\n",
    "            weighter += simweights.IceTopWeighter(file_obj)\n",
    "    return weighter"
   ]
  },
  {
   "cell_type": "code",
   "execution_count": 24,
   "id": "b81daa7d-0bfd-48d0-96da-917488f9a510",
   "metadata": {},
   "outputs": [],
   "source": [
    "# Load in the SIBYLL2.1 particle sims\n",
    "weighter = None\n",
    "\n",
    "primary_energy = []\n",
    "hits = []\n",
    "particle_type = []\n",
    "\n",
    "if os.path.isfile('pickles/energy.pkl'):\n",
    "    with open('pickles/energy.pkl', 'rb') as file:\n",
    "        primary_energy = pickle.load(file)\n",
    "else:\n",
    "    for path in PATHS:\n",
    "        weighter = weighting(path)\n",
    "\n",
    "if os.path.isfile('pickles/hits.pkl'):\n",
    "    with open('pickles/hits.pkl', 'rb') as file:\n",
    "        hits = pickle.load(file)\n",
    "elif not weighter==None:\n",
    "    for path in PATHS:\n",
    "        weighter = weighting(path)\n",
    "    \n",
    "if os.path.isfile('pickles/type.pkl'):\n",
    "    with open('pickles/type.pkl', 'rb') as file:\n",
    "        particle_type = pickle.load(file)\n",
    "elif not weighter==None:\n",
    "    for path in PATHS:\n",
    "        weighter = weighting(path)"
   ]
  },
  {
   "cell_type": "code",
   "execution_count": 6,
   "id": "e09aa1d1-bfad-410c-9094-23e0d80f00cf",
   "metadata": {
    "editable": true,
    "slideshow": {
     "slide_type": ""
    },
    "tags": []
   },
   "outputs": [],
   "source": [
    "# probably want to save these to pickle files\n",
    "if not os.path.isfile('pickles/energy.pkl'):\n",
    "    primary_energy = weighter.get_column('MCPrimary', 'energy')\n",
    "if not os.path.isfile('pickles/type.pkl'):\n",
    "    particle_type = weighter.get_column('MCPrimary', 'type')\n",
    "if not os.path.isfile('pickles/hits.pkl'):\n",
    "    hits = weighter.get_column('IceTopHLCSeedRTPulses_SnowUnAttenuated_info', 'nstrings')\n",
    "weights = []\n",
    "if not os.path.isfile('pickles/weights.pkl'):\n",
    "    # (p, He, N, Al, Fe) version of this model.\n",
    "    fluxH = simweights.GaisserH4a_IT()\n",
    "\n",
    "    # Get the weights by passing the flux to the weighter\n",
    "    weights = weighter.get_weights(fluxH)\n",
    "else:\n",
    "    with open('pickles/weights.pkl', 'rb') as file:\n",
    "        weights = pickle.load(file)"
   ]
  },
  {
   "cell_type": "code",
   "execution_count": 7,
   "id": "38d6a19c-b653-4e46-875d-7b9a91ab0c3d",
   "metadata": {
    "editable": true,
    "slideshow": {
     "slide_type": ""
    },
    "tags": []
   },
   "outputs": [],
   "source": [
    "# Dictionary for weight data (practice in using dictionaries)\n",
    "CUTS = {\n",
    "    'proton': particle_type==2.21200000e+03,\n",
    "    'helium' : particle_type==1.00002004e+09,\n",
    "    'oxygen': particle_type==1.00008016e+09,\n",
    "    'iron': particle_type==1.00026056e+09,\n",
    "    'true': np.tile(True, len(primary_energy))\n",
    "}\n",
    "Z = {\n",
    "    'true': 0,\n",
    "    'proton': 1,\n",
    "    'helium': 2,\n",
    "    'oxygen': 8,\n",
    "    'iron': 26  \n",
    "}\n",
    "TIERS = {\n",
    "    'Tier 1': (3<=hits)*(hits<5),\n",
    "    'Tier 2': (5<=hits)*(hits<9),\n",
    "    'Tier 3': (9<=hits)*(hits<16),\n",
    "    'Tier 4': 16<=hits\n",
    "}\n",
    "COLORS = {\n",
    "    'true' : 'black',\n",
    "    'proton': 'red',\n",
    "    'helium': 'orange',\n",
    "    'oxygen': 'green',\n",
    "    'iron': 'blue'\n",
    "}\n",
    "LABEL = {\n",
    "    'true' : 'Data',\n",
    "    'proton': 'P',\n",
    "    'helium': 'He',\n",
    "    'oxygen': 'O',\n",
    "    'iron': 'Fe'\n",
    "}\n",
    "WEIGHTS = {\n",
    "    'true' : {'Tier1': np.arange(5, 8.5, .1), 'Tier 2': np.arange(5, 8.5, .1), 'Tier 3': np.arange(5, 8.5, .1), 'Tier 4': np.arange(5, 8.5, .1)},\n",
    "    'proton': {'Tier1': np.arange(5, 8.5, .1), 'Tier 2': np.arange(5, 8.5, .1), 'Tier 3': np.arange(5, 8.5, .1), 'Tier 4': np.arange(5, 8.5, .1)},\n",
    "    'helium': {'Tier1': np.arange(5, 8.5, .1), 'Tier 2': np.arange(5, 8.5, .1), 'Tier 3': np.arange(5, 8.5, .1), 'Tier 4': np.arange(5, 8.5, .1)},\n",
    "    'oxygen': {'Tier1': np.arange(5, 8.5, .1), 'Tier 2': np.arange(5, 8.5, .1), 'Tier 3': np.arange(5, 8.5, .1), 'Tier 4': np.arange(5, 8.5, .1)},\n",
    "    'iron': {'Tier1': np.arange(5, 8.5, .1), 'Tier 2': np.arange(5, 8.5, .1), 'Tier 3': np.arange(5, 8.5, .1), 'Tier 4': np.arange(5, 8.5, .1)}\n",
    "}\n",
    "BINS = {\n",
    "    'true' : {'Tier1': np.arange(5, 8.5, .1), 'Tier 2': np.arange(5, 8.5, .1), 'Tier 3': np.arange(5, 8.5, .1), 'Tier 4': np.arange(5, 8.5, .1)},\n",
    "    'proton': {'Tier1': np.arange(5, 8.5, .1), 'Tier 2': np.arange(5, 8.5, .1), 'Tier 3': np.arange(5, 8.5, .1), 'Tier 4': np.arange(5, 8.5, .1)},\n",
    "    'helium': {'Tier1': np.arange(5, 8.5, .1), 'Tier 2': np.arange(5, 8.5, .1), 'Tier 3': np.arange(5, 8.5, .1), 'Tier 4': np.arange(5, 8.5, .1)},\n",
    "    'oxygen': {'Tier1': np.arange(5, 8.5, .1), 'Tier 2': np.arange(5, 8.5, .1), 'Tier 3': np.arange(5, 8.5, .1), 'Tier 4': np.arange(5, 8.5, .1)},\n",
    "    'iron': {'Tier1': np.arange(5, 8.5, .1), 'Tier 2': np.arange(5, 8.5, .1), 'Tier 3': np.arange(5, 8.5, .1), 'Tier 4': np.arange(5, 8.5, .1)}\n",
    "}"
   ]
  },
  {
   "cell_type": "code",
   "execution_count": 8,
   "id": "4c372e3e-71a6-4032-97ea-8c1ecbe350a4",
   "metadata": {},
   "outputs": [],
   "source": [
    "def weighted_quantiles(values, weights, quantiles=0.5):\n",
    "    i = np.argsort(values)\n",
    "    c = np.cumsum(weights[i])\n",
    "    return values[i[np.searchsorted(c, np.array(quantiles) * c[-1])]]\n",
    "\n",
    "def weighted_percentile(data, weights, percentile):\n",
    "    \"\"\"\n",
    "    Compute the weighted percentile of a dataset.\n",
    "    \n",
    "    Parameters:\n",
    "    - data: array-like, the data values.\n",
    "    - weights: array-like, same length as data.\n",
    "    - percentile: float between 0 and 100.\n",
    "    \n",
    "    Returns:\n",
    "    - The weighted percentile value.\n",
    "    \"\"\"\n",
    "    data = np.asarray(data)\n",
    "    weights = np.asarray(weights)\n",
    "    \n",
    "    # Sort data and weights by data\n",
    "    sorted_indices = np.argsort(data)\n",
    "    data_sorted = data[sorted_indices]\n",
    "    weights_sorted = weights[sorted_indices]\n",
    "\n",
    "    # Compute the cumulative sum of weights\n",
    "    cumulative_weights = np.cumsum(weights_sorted)\n",
    "    normalized_weights = cumulative_weights / cumulative_weights[-1]  # normalize to 1\n",
    "\n",
    "    # Find where the normalized cumulative weight exceeds the desired percentile\n",
    "    return np.interp(percentile / 100, normalized_weights, data_sorted)"
   ]
  },
  {
   "cell_type": "code",
   "execution_count": null,
   "id": "6fec66bc-6745-4a85-8dcf-7bd93feb146d",
   "metadata": {
    "editable": true,
    "slideshow": {
     "slide_type": ""
    },
    "tags": []
   },
   "outputs": [],
   "source": [
    "# Graph Log10 Energy vs Log 10 weighted counts\n",
    "\n",
    "fig, axs = plt.subplots(figsize = (52, 8), ncols=4)\n",
    "\n",
    "for tier, tier_cut, ax in zip(TIERS.keys(), TIERS.values(), axs):\n",
    "    print(tier)\n",
    "    print()\n",
    "    \n",
    "    for comp, comp_cut in zip(CUTS.keys(), CUTS.values()):\n",
    "        WEIGHTS[comp][tier], BINS[comp][tier], patches1 = ax.hist(np.log10(primary_energy)[comp_cut * tier_cut], bins=50, weights=weights[comp_cut * tier_cut], log=True, label = LABEL[comp], histtype='step', color=COLORS[comp])\n",
    "        if comp=='proton' or comp=='iron' or comp=='true':\n",
    "            print(f'    {comp}')\n",
    "            print(f'        Median: {round(weighted_quantiles(primary_energy[comp_cut * tier_cut]/1000000, weights[comp_cut * tier_cut]), 2)} PeV')\n",
    "            print(f'        68%: {round(weighted_percentile(primary_energy[comp_cut * tier_cut]/1000000, weights[comp_cut * tier_cut], 16), 2)}-{round(weighted_percentile(primary_energy[comp_cut * tier_cut]/1000000, weights[comp_cut * tier_cut], 84), 2)} PeV')\n",
    "            print()\n",
    "    ax.set_xlabel('Energy')\n",
    "    ax.set_ylabel('Counts')\n",
    "    ax.set_title(f'Log10 Energy vs Log 10 Weighted Counts for {tier}')\n",
    "    ax.legend()"
   ]
  },
  {
   "cell_type": "code",
   "execution_count": null,
   "id": "e4271ee3-c328-4f84-8102-7d01954e8dfc",
   "metadata": {
    "editable": true,
    "slideshow": {
     "slide_type": ""
    },
    "tags": []
   },
   "outputs": [],
   "source": [
    "### Particle Fraction vs. Energy\n",
    "fig, axs = plt.subplots(figsize=(52, 8), ncols=4)\n",
    "\n",
    "for tier, tier_cut, ax in zip(TIERS.keys(), TIERS.values(), axs):\n",
    "    for comp in CUTS:\n",
    "        if not comp=='true':\n",
    "            ax.plot(BINS[comp][tier][:-1], WEIGHTS[comp][tier]/len(primary_energy[tier_cut]), label=LABEL[comp])\n",
    "\n",
    "    ax.set_xlabel('log10(Energy/GeV)')\n",
    "    ax.set_ylabel('Fraction of Particles')\n",
    "    ax.set_title(f'Particle Fraction vs. Energy for {tier}')\n",
    "\n",
    "    ax.legend()"
   ]
  },
  {
   "cell_type": "code",
   "execution_count": null,
   "id": "55c674cf-fe2c-445f-843f-4fad0cf63666",
   "metadata": {},
   "outputs": [],
   "source": [
    "# Mean Atomic Charge\n",
    "\n",
    "fig, axs = plt.subplots(figsize=(52, 8), ncols=4)\n",
    "\n",
    "for tier, tier_cut, ax in zip(TIERS.keys(), TIERS.values(), axs):\n",
    "    totZ = 0\n",
    "    \n",
    "    for comp, comp_cut in zip(CUTS.keys(), CUTS.values()):\n",
    "        if not comp=='true':\n",
    "            totZ += WEIGHTS[comp][tier] * np.log(Z[comp])\n",
    "\n",
    "    meanZ = totZ / len(primary_energy[tier_cut])\n",
    "\n",
    "    ax.plot(BINS['true'][tier][:-1], meanZ, label = 'Mean Z')\n",
    "\n",
    "    ax.set_xlabel('log10(Energy/GeV)')\n",
    "    ax.set_ylabel('Mean log10(Z)')\n",
    "    ax.set_title(f'Mean logZ vs. Energy for {tier}')\n",
    "\n",
    "    ax.legend()"
   ]
  },
  {
   "cell_type": "code",
   "execution_count": null,
   "id": "25a08d93-39a4-48a9-a338-c765df1e587b",
   "metadata": {},
   "outputs": [],
   "source": [
    "# Make a table of the overall percentage of particles\n",
    "TABLE = {\n",
    "    'Tier 1': {'proton': None, 'helium': None, 'oxygen': None, 'iron': None, 'ln(A)': None},\n",
    "    'Tier 2': {'proton': None, 'helium': None, 'oxygen': None, 'iron': None, 'ln(A)': None},\n",
    "    'Tier 3': {'proton': None, 'helium': None, 'oxygen': None, 'iron': None, 'ln(A)': None},\n",
    "    'Tier 4': {'proton': None, 'helium': None, 'oxygen': None, 'iron': None, 'ln(A)': None}\n",
    "}\n",
    "for tier, tier_cut in zip(TIERS.keys(), TIERS.values()):\n",
    "    #TABLE[tier][ln(A)] = np.log()\n",
    "\n",
    "    for comp, comp_cut in zip(CUTS.keys(), CUTS.values()):\n",
    "        if not comp=='true':\n",
    "            TABLE[tier][comp] = round(len(primary_energy[comp_cut * tier_cut])/len(primary_energy[tier_cut]), 3)\n",
    "print(DataFrame(TABLE))\n",
    "#for tier in TIERS:\n",
    "#    print(f\"{tier}:\")\n",
    "#    print()\n",
    "#    for cut in CUTS:\n",
    "#        if not cut=='true':\n",
    "#            combined_cuts = CUTS[cut] * TIERS[tier]\n",
    "#            print(f\"[{cut}, {round(len(primary_energy[combined_cuts])/len(primary_energy[TIERS[tier]]), 3)}]\")\n",
    "#            print()"
   ]
  },
  {
   "cell_type": "code",
   "execution_count": null,
   "id": "740607d0-f921-4c74-b7e8-3d140f0c0c3f",
   "metadata": {},
   "outputs": [],
   "source": [
    "fluxG = simweights.GlobalSplineFit_IT()\n",
    "\n",
    "print(fluxG.pdgids)\n",
    "print(fluxG.groups)"
   ]
  }
 ],
 "metadata": {
  "kernelspec": {
   "display_name": "py3-v4.3.0: v1.12.1",
   "language": "shell",
   "name": "py3-v4.3.0_v1.12.1"
  },
  "language_info": {
   "codemirror_mode": {
    "name": "ipython",
    "version": 3
   },
   "file_extension": ".py",
   "mimetype": "text/x-python",
   "name": "python",
   "nbconvert_exporter": "python",
   "pygments_lexer": "ipython3",
   "version": "3.11.3"
  }
 },
 "nbformat": 4,
 "nbformat_minor": 5
}
