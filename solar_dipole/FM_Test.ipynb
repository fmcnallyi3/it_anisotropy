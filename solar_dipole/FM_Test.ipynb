{
 "cells": [
  {
   "cell_type": "markdown",
   "id": "93ea1c72-e292-4d48-81aa-e900010d183b",
   "metadata": {},
   "source": [
    "# This is a TEST"
   ]
  },
  {
   "cell_type": "code",
   "execution_count": 1,
   "id": "56112427-2aa6-45a6-a2c1-7d25b7b536c7",
   "metadata": {},
   "outputs": [],
   "source": [
    "import numpy as np"
   ]
  },
  {
   "cell_type": "code",
   "execution_count": 2,
   "id": "62c075f1-c48b-4573-b71e-3cab484bc9ee",
   "metadata": {},
   "outputs": [
    {
     "name": "stdout",
     "output_type": "stream",
     "text": [
      "[0 1 2 3 4 5 6 7 8 9]\n"
     ]
    }
   ],
   "source": [
    "print(np.arange(10))"
   ]
  },
  {
   "cell_type": "code",
   "execution_count": null,
   "id": "596e1778-6bb5-42c6-af62-22e0d18a3672",
   "metadata": {},
   "outputs": [],
   "source": []
  }
 ],
 "metadata": {
  "kernelspec": {
   "display_name": "py3-v4.1.1: icetray/stable",
   "language": "shell",
   "name": "py3-v4.1.1_stable"
  },
  "language_info": {
   "codemirror_mode": {
    "name": "ipython",
    "version": 3
   },
   "file_extension": ".py",
   "mimetype": "text/x-python",
   "name": "python",
   "nbconvert_exporter": "python",
   "pygments_lexer": "ipython3",
   "version": "3.7.5"
  }
 },
 "nbformat": 4,
 "nbformat_minor": 5
}
