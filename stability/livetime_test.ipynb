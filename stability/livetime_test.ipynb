{
 "cells": [
  {
   "cell_type": "code",
   "execution_count": 1,
   "id": "15ad35db-36ec-49fd-ae15-34ea3464bb43",
   "metadata": {},
   "outputs": [],
   "source": [
    "import numpy as np\n",
    "import healpy as hp\n",
    "import matplotlib.pyplot as plt\n",
    "import json\n",
    "\n",
    "from glob import glob\n",
    "\n",
    "import grl_tools"
   ]
  },
  {
   "cell_type": "code",
   "execution_count": 2,
   "id": "e6db39f1-4a54-42a4-a3d5-d7844d40280a",
   "metadata": {},
   "outputs": [],
   "source": [
    "# Load Serap's icetop GRL files\n",
    "grl_base = '/data/ana/CosmicRay/IceTop_GRL'\n",
    "grl_files = sorted(glob(f'{grl_base}/IC86_20*.txt'))\n",
    "\n",
    "it_goodruns = []\n",
    "for grl_file in grl_files:\n",
    "    it_goodruns += grl_tools.parse_seraps_GRL(grl_file)"
   ]
  },
  {
   "cell_type": "code",
   "execution_count": 3,
   "id": "4f777219-4070-4cc9-82ad-c0561044c4b8",
   "metadata": {},
   "outputs": [],
   "source": [
    "# Load information from i3live\n",
    "start = '2012-05-13 00:00:00'\n",
    "end   = '2022-05-13 00:00:00'\n",
    "i3_goodruns = grl_tools.i3live_grl(start, end, icetop=True)"
   ]
  },
  {
   "cell_type": "code",
   "execution_count": 4,
   "id": "aeed0bb1-0d3f-4757-8718-3e70917c324e",
   "metadata": {},
   "outputs": [
    {
     "name": "stdout",
     "output_type": "stream",
     "text": [
      "10.2% of runs filtered out by IT GRL\n"
     ]
    }
   ],
   "source": [
    "# Calculate livetimes for icetop\n",
    "i3_livetime = grl_tools.daily_livetime(i3_goodruns, it_goodruns)"
   ]
  },
  {
   "cell_type": "code",
   "execution_count": 7,
   "id": "eaf6480c-fcb7-4058-b925-e51e1bbdee70",
   "metadata": {},
   "outputs": [],
   "source": [
    "# We need the counts for each day in the IceTop maps. Load the output from count_finder.py\n",
    "prefix = '/data/user/fmcnally/icetop_12yr/stability'\n",
    "count_files = sorted(glob(f'{prefix}/counts_20??_Tier?.json'))\n",
    "\n",
    "# Load count files into a single dictionary\n",
    "counts = {}\n",
    "for tier in range(1, 5):\n",
    "    counts[tier] = {}\n",
    "    tier_files = [f for f in count_files if f'Tier{tier}' in f]\n",
    "    for tier_file in tier_files:        \n",
    "        with open(tier_file, 'r') as f:\n",
    "            counts_i = json.load(f)\n",
    "        counts[tier].update(counts_i)"
   ]
  },
  {
   "cell_type": "markdown",
   "id": "1e7d4ac7-a10d-4e61-82c4-6965c66571a2",
   "metadata": {},
   "source": [
    "CJ - at this point you have all the information you need:\n",
    "1. `i3_livetime` is a dictionary with the format `i3_livetime[day][run] = time` (in seconds).\n",
    "2. `counts` is a dictionary with the format `counts[day] = n_events`.\n",
    "\n",
    "`i3_livetime` has more detail than you need, so you'll first want to produce something that looks like `livetime[day] = time` by summing up the individual run times for each day. Once you have that, you can make a plot by iterating over every day and plotting the rate (`counts[day]/livetime[day]`) vs the day"
   ]
  },
  {
   "cell_type": "code",
   "execution_count": null,
   "id": "cc10b38b-87ed-4aed-8839-8e2e3b09797b",
   "metadata": {},
   "outputs": [],
   "source": []
  }
 ],
 "metadata": {
  "kernelspec": {
   "display_name": "py3-v4.3.0: v1.10.0",
   "language": "shell",
   "name": "py3-v4.3.0_v1.10.0"
  },
  "language_info": {
   "codemirror_mode": {
    "name": "ipython",
    "version": 3
   },
   "file_extension": ".py",
   "mimetype": "text/x-python",
   "name": "python",
   "nbconvert_exporter": "python",
   "pygments_lexer": "ipython3",
   "version": "3.11.3"
  }
 },
 "nbformat": 4,
 "nbformat_minor": 5
}
